{
  "nbformat": 4,
  "nbformat_minor": 0,
  "metadata": {
    "colab": {
      "name": "Exploratory data Analysis.ipynb",
      "provenance": [],
      "include_colab_link": true
    },
    "kernelspec": {
      "name": "python3",
      "display_name": "Python 3"
    }
  },
  "cells": [
    {
      "cell_type": "markdown",
      "metadata": {
        "id": "view-in-github",
        "colab_type": "text"
      },
      "source": [
        "<a href=\"https://colab.research.google.com/github/Ujjwal1khadka/blog/blob/main/Exploratory_data_Analysis.ipynb\" target=\"_parent\"><img src=\"https://colab.research.google.com/assets/colab-badge.svg\" alt=\"Open In Colab\"/></a>"
      ]
    },
    {
      "cell_type": "markdown",
      "metadata": {
        "id": "TOvht7vqQGdR"
      },
      "source": [
        "# Exploratory data analysis in Python."
      ]
    },
    {
      "cell_type": "markdown",
      "metadata": {
        "id": "mhA_0CQOTDQy"
      },
      "source": [
        "## Let us understand how to explore the data in python.\n"
      ]
    },
    {
      "cell_type": "markdown",
      "metadata": {
        "id": "TEfC0QszTKX_"
      },
      "source": [
        "\n",
        "![alt text](https://moriohcdn.b-cdn.net/ff3cc511fb.png)\n"
      ]
    },
    {
      "cell_type": "markdown",
      "metadata": {
        "id": "NMyUUHXcHdqt"
      },
      "source": [
        "Image Credits: Morioh"
      ]
    },
    {
      "cell_type": "markdown",
      "metadata": {
        "id": "dB_j6LtTTO5j"
      },
      "source": [
        "## Introduction"
      ]
    },
    {
      "cell_type": "markdown",
      "metadata": {
        "id": "8hg00soETQ3z"
      },
      "source": [
        "**What is Exploratory Data Analysis ?**\n",
        "\n",
        "Exploratory Data Analysis or (EDA) is understanding the data sets by summarizing their main characteristics often plotting them visually. This step is very important especially when we arrive at modeling the data in order to apply Machine learning. Plotting in EDA consists of Histograms, Box plot, Scatter plot and many more. It often takes much time to explore the data. Through the process of EDA, we can ask to define the problem statement or definition on our data set which is very important."
      ]
    },
    {
      "cell_type": "markdown",
      "metadata": {
        "id": "ZfelutoyTS25"
      },
      "source": [
        "**How to perform Exploratory Data Analysis ?**\n",
        "\n",
        "This is one such question that everyone is keen on knowing the answer. Well, the answer is it depends on the data set that you are working. There is no one method or common methods in order to perform EDA, whereas in this tutorial you can understand some common methods and plots that would be used in the EDA process."
      ]
    },
    {
      "cell_type": "markdown",
      "metadata": {
        "id": "n3VfNkBBw15s"
      },
      "source": [
        "**What data are we exploring today ?**\n",
        "\n",
        "\n",
        "\n",
        "Since I am a huge fan of cars, I got a very beautiful data-set of cars from Kaggle. The data-set can be downloaded from [here](https://www.kaggle.com/CooperUnion/cardataset). To give a piece of brief information about the data set this data contains more of 10, 000 rows and more than 10 columns which contains features of the car such as Engine Fuel Type, Engine HP, Transmission Type, highway MPG, city MPG and many more. So in this tutorial, we will explore the data and make it ready for modeling."
      ]
    },
    {
      "cell_type": "markdown",
      "metadata": {
        "id": "CQDO4JCqTThV"
      },
      "source": [
        "\n",
        "\n",
        "---\n",
        "\n"
      ]
    },
    {
      "cell_type": "markdown",
      "metadata": {
        "id": "FPSqz1wzTXvz"
      },
      "source": [
        "## 1. Importing the required libraries for EDA"
      ]
    },
    {
      "cell_type": "markdown",
      "metadata": {
        "id": "9eLMx1Ebwa92"
      },
      "source": [
        "Below are the libraries that are used in order to perform EDA (Exploratory data analysis) in this tutorial."
      ]
    },
    {
      "cell_type": "code",
      "metadata": {
        "id": "GGyDovL2QDLa"
      },
      "source": [
        "import pandas as pd\n",
        "import numpy as np\n",
        "import seaborn as sns                       #visualisation\n",
        "import matplotlib.pyplot as plt             #visualisation\n",
        "%matplotlib inline\n",
        "sns.set(color_codes=True)"
      ],
      "execution_count": 1,
      "outputs": []
    },
    {
      "cell_type": "markdown",
      "metadata": {
        "id": "Ye6eXuohTd5Q"
      },
      "source": [
        "\n",
        "\n",
        "---\n",
        "\n"
      ]
    },
    {
      "cell_type": "markdown",
      "metadata": {
        "id": "8Y3Z2DbKTfJt"
      },
      "source": [
        "## 2. Loading the data into the data frame."
      ]
    },
    {
      "cell_type": "markdown",
      "metadata": {
        "id": "ko5zGJFCySaz"
      },
      "source": [
        "Loading the data into the pandas data frame is certainly one of the most important steps in EDA, as we can see that the value from the data set is comma-separated. So all we have to do is to just read the CSV into a data frame and pandas data frame does the job for us."
      ]
    },
    {
      "cell_type": "markdown",
      "metadata": {
        "id": "LgzUzD61IM8h"
      },
      "source": [
        "To get or load the dataset into the notebook, all I did was one trivial step. In Google Colab at the left-hand side of the notebook, you will find a > (greater than symbol). When you click that you will find a tab with three options, you just have to select Files. Then you can easily upload your file with the help of the Upload option. No need to mount to the google drive or use any specific libraries just upload the data set and your job is done. One thing to remember in this step is that uploaded files will get deleted when this runtime is recycled. This is how I got the data set into the notebook."
      ]
    },
    {
      "cell_type": "code",
      "metadata": {
        "id": "0oVZnezwQ159",
        "outputId": "0801725e-97f3-4a43-e1ba-d3843edad304",
        "colab": {
          "base_uri": "https://localhost:8080/",
          "height": 386
        }
      },
      "source": [
        "df = pd.read_csv(\"/content/publicapi_entries.csv\")\n",
        "# To display the top 5 rows\n",
        "df.head(5)"
      ],
      "execution_count": 3,
      "outputs": [
        {
          "output_type": "execute_result",
          "data": {
            "text/plain": [
              "         API                                Description    Auth  HTTPS Cors  \\\n",
              "0  AdoptAPet          Resource to help get pets adopted  apiKey   True  yes   \n",
              "1    Axolotl   Collection of axolotl pictures and facts     NaN   True   no   \n",
              "2  Cat Facts                            Daily cat facts     NaN   True   no   \n",
              "3     Cataas  Cat as a service (cats pictures and gifs)     NaN   True   no   \n",
              "4       Cats               Pictures of cats from Tumblr  apiKey   True   no   \n",
              "\n",
              "                                                Link Category  \n",
              "0  https://www.adoptapet.com/public/apis/pet_list...  Animals  \n",
              "1                 https://theaxolotlapi.netlify.app/  Animals  \n",
              "2         https://alexwohlbruck.github.io/cat-facts/  Animals  \n",
              "3                                https://cataas.com/  Animals  \n",
              "4                        https://docs.thecatapi.com/  Animals  "
            ],
            "text/html": [
              "\n",
              "  <div id=\"df-04202a04-d9e7-4418-a19e-27170e4b2590\" class=\"colab-df-container\">\n",
              "    <div>\n",
              "<style scoped>\n",
              "    .dataframe tbody tr th:only-of-type {\n",
              "        vertical-align: middle;\n",
              "    }\n",
              "\n",
              "    .dataframe tbody tr th {\n",
              "        vertical-align: top;\n",
              "    }\n",
              "\n",
              "    .dataframe thead th {\n",
              "        text-align: right;\n",
              "    }\n",
              "</style>\n",
              "<table border=\"1\" class=\"dataframe\">\n",
              "  <thead>\n",
              "    <tr style=\"text-align: right;\">\n",
              "      <th></th>\n",
              "      <th>API</th>\n",
              "      <th>Description</th>\n",
              "      <th>Auth</th>\n",
              "      <th>HTTPS</th>\n",
              "      <th>Cors</th>\n",
              "      <th>Link</th>\n",
              "      <th>Category</th>\n",
              "    </tr>\n",
              "  </thead>\n",
              "  <tbody>\n",
              "    <tr>\n",
              "      <th>0</th>\n",
              "      <td>AdoptAPet</td>\n",
              "      <td>Resource to help get pets adopted</td>\n",
              "      <td>apiKey</td>\n",
              "      <td>True</td>\n",
              "      <td>yes</td>\n",
              "      <td>https://www.adoptapet.com/public/apis/pet_list...</td>\n",
              "      <td>Animals</td>\n",
              "    </tr>\n",
              "    <tr>\n",
              "      <th>1</th>\n",
              "      <td>Axolotl</td>\n",
              "      <td>Collection of axolotl pictures and facts</td>\n",
              "      <td>NaN</td>\n",
              "      <td>True</td>\n",
              "      <td>no</td>\n",
              "      <td>https://theaxolotlapi.netlify.app/</td>\n",
              "      <td>Animals</td>\n",
              "    </tr>\n",
              "    <tr>\n",
              "      <th>2</th>\n",
              "      <td>Cat Facts</td>\n",
              "      <td>Daily cat facts</td>\n",
              "      <td>NaN</td>\n",
              "      <td>True</td>\n",
              "      <td>no</td>\n",
              "      <td>https://alexwohlbruck.github.io/cat-facts/</td>\n",
              "      <td>Animals</td>\n",
              "    </tr>\n",
              "    <tr>\n",
              "      <th>3</th>\n",
              "      <td>Cataas</td>\n",
              "      <td>Cat as a service (cats pictures and gifs)</td>\n",
              "      <td>NaN</td>\n",
              "      <td>True</td>\n",
              "      <td>no</td>\n",
              "      <td>https://cataas.com/</td>\n",
              "      <td>Animals</td>\n",
              "    </tr>\n",
              "    <tr>\n",
              "      <th>4</th>\n",
              "      <td>Cats</td>\n",
              "      <td>Pictures of cats from Tumblr</td>\n",
              "      <td>apiKey</td>\n",
              "      <td>True</td>\n",
              "      <td>no</td>\n",
              "      <td>https://docs.thecatapi.com/</td>\n",
              "      <td>Animals</td>\n",
              "    </tr>\n",
              "  </tbody>\n",
              "</table>\n",
              "</div>\n",
              "    <div class=\"colab-df-buttons\">\n",
              "\n",
              "  <div class=\"colab-df-container\">\n",
              "    <button class=\"colab-df-convert\" onclick=\"convertToInteractive('df-04202a04-d9e7-4418-a19e-27170e4b2590')\"\n",
              "            title=\"Convert this dataframe to an interactive table.\"\n",
              "            style=\"display:none;\">\n",
              "\n",
              "  <svg xmlns=\"http://www.w3.org/2000/svg\" height=\"24px\" viewBox=\"0 -960 960 960\">\n",
              "    <path d=\"M120-120v-720h720v720H120Zm60-500h600v-160H180v160Zm220 220h160v-160H400v160Zm0 220h160v-160H400v160ZM180-400h160v-160H180v160Zm440 0h160v-160H620v160ZM180-180h160v-160H180v160Zm440 0h160v-160H620v160Z\"/>\n",
              "  </svg>\n",
              "    </button>\n",
              "\n",
              "  <style>\n",
              "    .colab-df-container {\n",
              "      display:flex;\n",
              "      gap: 12px;\n",
              "    }\n",
              "\n",
              "    .colab-df-convert {\n",
              "      background-color: #E8F0FE;\n",
              "      border: none;\n",
              "      border-radius: 50%;\n",
              "      cursor: pointer;\n",
              "      display: none;\n",
              "      fill: #1967D2;\n",
              "      height: 32px;\n",
              "      padding: 0 0 0 0;\n",
              "      width: 32px;\n",
              "    }\n",
              "\n",
              "    .colab-df-convert:hover {\n",
              "      background-color: #E2EBFA;\n",
              "      box-shadow: 0px 1px 2px rgba(60, 64, 67, 0.3), 0px 1px 3px 1px rgba(60, 64, 67, 0.15);\n",
              "      fill: #174EA6;\n",
              "    }\n",
              "\n",
              "    .colab-df-buttons div {\n",
              "      margin-bottom: 4px;\n",
              "    }\n",
              "\n",
              "    [theme=dark] .colab-df-convert {\n",
              "      background-color: #3B4455;\n",
              "      fill: #D2E3FC;\n",
              "    }\n",
              "\n",
              "    [theme=dark] .colab-df-convert:hover {\n",
              "      background-color: #434B5C;\n",
              "      box-shadow: 0px 1px 3px 1px rgba(0, 0, 0, 0.15);\n",
              "      filter: drop-shadow(0px 1px 2px rgba(0, 0, 0, 0.3));\n",
              "      fill: #FFFFFF;\n",
              "    }\n",
              "  </style>\n",
              "\n",
              "    <script>\n",
              "      const buttonEl =\n",
              "        document.querySelector('#df-04202a04-d9e7-4418-a19e-27170e4b2590 button.colab-df-convert');\n",
              "      buttonEl.style.display =\n",
              "        google.colab.kernel.accessAllowed ? 'block' : 'none';\n",
              "\n",
              "      async function convertToInteractive(key) {\n",
              "        const element = document.querySelector('#df-04202a04-d9e7-4418-a19e-27170e4b2590');\n",
              "        const dataTable =\n",
              "          await google.colab.kernel.invokeFunction('convertToInteractive',\n",
              "                                                    [key], {});\n",
              "        if (!dataTable) return;\n",
              "\n",
              "        const docLinkHtml = 'Like what you see? Visit the ' +\n",
              "          '<a target=\"_blank\" href=https://colab.research.google.com/notebooks/data_table.ipynb>data table notebook</a>'\n",
              "          + ' to learn more about interactive tables.';\n",
              "        element.innerHTML = '';\n",
              "        dataTable['output_type'] = 'display_data';\n",
              "        await google.colab.output.renderOutput(dataTable, element);\n",
              "        const docLink = document.createElement('div');\n",
              "        docLink.innerHTML = docLinkHtml;\n",
              "        element.appendChild(docLink);\n",
              "      }\n",
              "    </script>\n",
              "  </div>\n",
              "\n",
              "\n",
              "<div id=\"df-b8a24834-605c-48c5-848a-6e06c46178c5\">\n",
              "  <button class=\"colab-df-quickchart\" onclick=\"quickchart('df-b8a24834-605c-48c5-848a-6e06c46178c5')\"\n",
              "            title=\"Suggest charts.\"\n",
              "            style=\"display:none;\">\n",
              "\n",
              "<svg xmlns=\"http://www.w3.org/2000/svg\" height=\"24px\"viewBox=\"0 0 24 24\"\n",
              "     width=\"24px\">\n",
              "    <g>\n",
              "        <path d=\"M19 3H5c-1.1 0-2 .9-2 2v14c0 1.1.9 2 2 2h14c1.1 0 2-.9 2-2V5c0-1.1-.9-2-2-2zM9 17H7v-7h2v7zm4 0h-2V7h2v10zm4 0h-2v-4h2v4z\"/>\n",
              "    </g>\n",
              "</svg>\n",
              "  </button>\n",
              "\n",
              "<style>\n",
              "  .colab-df-quickchart {\n",
              "    background-color: #E8F0FE;\n",
              "    border: none;\n",
              "    border-radius: 50%;\n",
              "    cursor: pointer;\n",
              "    display: none;\n",
              "    fill: #1967D2;\n",
              "    height: 32px;\n",
              "    padding: 0 0 0 0;\n",
              "    width: 32px;\n",
              "  }\n",
              "\n",
              "  .colab-df-quickchart:hover {\n",
              "    background-color: #E2EBFA;\n",
              "    box-shadow: 0px 1px 2px rgba(60, 64, 67, 0.3), 0px 1px 3px 1px rgba(60, 64, 67, 0.15);\n",
              "    fill: #174EA6;\n",
              "  }\n",
              "\n",
              "  [theme=dark] .colab-df-quickchart {\n",
              "    background-color: #3B4455;\n",
              "    fill: #D2E3FC;\n",
              "  }\n",
              "\n",
              "  [theme=dark] .colab-df-quickchart:hover {\n",
              "    background-color: #434B5C;\n",
              "    box-shadow: 0px 1px 3px 1px rgba(0, 0, 0, 0.15);\n",
              "    filter: drop-shadow(0px 1px 2px rgba(0, 0, 0, 0.3));\n",
              "    fill: #FFFFFF;\n",
              "  }\n",
              "</style>\n",
              "\n",
              "  <script>\n",
              "    async function quickchart(key) {\n",
              "      const charts = await google.colab.kernel.invokeFunction(\n",
              "          'suggestCharts', [key], {});\n",
              "    }\n",
              "    (() => {\n",
              "      let quickchartButtonEl =\n",
              "        document.querySelector('#df-b8a24834-605c-48c5-848a-6e06c46178c5 button');\n",
              "      quickchartButtonEl.style.display =\n",
              "        google.colab.kernel.accessAllowed ? 'block' : 'none';\n",
              "    })();\n",
              "  </script>\n",
              "</div>\n",
              "    </div>\n",
              "  </div>\n"
            ]
          },
          "metadata": {},
          "execution_count": 3
        }
      ]
    },
    {
      "cell_type": "code",
      "metadata": {
        "id": "Fm-9dzdTRKpe",
        "outputId": "6849ab41-91de-4e69-c9d2-3456475eabcd",
        "colab": {
          "base_uri": "https://localhost:8080/",
          "height": 436
        }
      },
      "source": [
        "df.tail(5)                        # To display the botton 5 rows"
      ],
      "execution_count": 4,
      "outputs": [
        {
          "output_type": "execute_result",
          "data": {
            "text/plain": [
              "                  API                                        Description  \\\n",
              "1420  Visual Crossing        Global historical and weather forecast data   \n",
              "1421      weather-api            A RESTful free API to check the weather   \n",
              "1422       WeatherAPI  Weather API with other stuff like Astronomy an...   \n",
              "1423       Weatherbit                                            Weather   \n",
              "1424   Yandex.Weather   Assesses weather condition in specific locations   \n",
              "\n",
              "        Auth  HTTPS     Cors                                             Link  \\\n",
              "1420  apiKey   True      yes       https://www.visualcrossing.com/weather-api   \n",
              "1421     NaN   True       no  https://github.com/robertoduessmann/weather-api   \n",
              "1422  apiKey   True      yes                      https://www.weatherapi.com/   \n",
              "1423  apiKey   True  unknown                    https://www.weatherbit.io/api   \n",
              "1424  apiKey   True       no                  https://yandex.com/dev/weather/   \n",
              "\n",
              "     Category  \n",
              "1420  Weather  \n",
              "1421  Weather  \n",
              "1422  Weather  \n",
              "1423  Weather  \n",
              "1424  Weather  "
            ],
            "text/html": [
              "\n",
              "  <div id=\"df-3bcdebad-dbf0-4eba-a0c7-6483a242e5ee\" class=\"colab-df-container\">\n",
              "    <div>\n",
              "<style scoped>\n",
              "    .dataframe tbody tr th:only-of-type {\n",
              "        vertical-align: middle;\n",
              "    }\n",
              "\n",
              "    .dataframe tbody tr th {\n",
              "        vertical-align: top;\n",
              "    }\n",
              "\n",
              "    .dataframe thead th {\n",
              "        text-align: right;\n",
              "    }\n",
              "</style>\n",
              "<table border=\"1\" class=\"dataframe\">\n",
              "  <thead>\n",
              "    <tr style=\"text-align: right;\">\n",
              "      <th></th>\n",
              "      <th>API</th>\n",
              "      <th>Description</th>\n",
              "      <th>Auth</th>\n",
              "      <th>HTTPS</th>\n",
              "      <th>Cors</th>\n",
              "      <th>Link</th>\n",
              "      <th>Category</th>\n",
              "    </tr>\n",
              "  </thead>\n",
              "  <tbody>\n",
              "    <tr>\n",
              "      <th>1420</th>\n",
              "      <td>Visual Crossing</td>\n",
              "      <td>Global historical and weather forecast data</td>\n",
              "      <td>apiKey</td>\n",
              "      <td>True</td>\n",
              "      <td>yes</td>\n",
              "      <td>https://www.visualcrossing.com/weather-api</td>\n",
              "      <td>Weather</td>\n",
              "    </tr>\n",
              "    <tr>\n",
              "      <th>1421</th>\n",
              "      <td>weather-api</td>\n",
              "      <td>A RESTful free API to check the weather</td>\n",
              "      <td>NaN</td>\n",
              "      <td>True</td>\n",
              "      <td>no</td>\n",
              "      <td>https://github.com/robertoduessmann/weather-api</td>\n",
              "      <td>Weather</td>\n",
              "    </tr>\n",
              "    <tr>\n",
              "      <th>1422</th>\n",
              "      <td>WeatherAPI</td>\n",
              "      <td>Weather API with other stuff like Astronomy an...</td>\n",
              "      <td>apiKey</td>\n",
              "      <td>True</td>\n",
              "      <td>yes</td>\n",
              "      <td>https://www.weatherapi.com/</td>\n",
              "      <td>Weather</td>\n",
              "    </tr>\n",
              "    <tr>\n",
              "      <th>1423</th>\n",
              "      <td>Weatherbit</td>\n",
              "      <td>Weather</td>\n",
              "      <td>apiKey</td>\n",
              "      <td>True</td>\n",
              "      <td>unknown</td>\n",
              "      <td>https://www.weatherbit.io/api</td>\n",
              "      <td>Weather</td>\n",
              "    </tr>\n",
              "    <tr>\n",
              "      <th>1424</th>\n",
              "      <td>Yandex.Weather</td>\n",
              "      <td>Assesses weather condition in specific locations</td>\n",
              "      <td>apiKey</td>\n",
              "      <td>True</td>\n",
              "      <td>no</td>\n",
              "      <td>https://yandex.com/dev/weather/</td>\n",
              "      <td>Weather</td>\n",
              "    </tr>\n",
              "  </tbody>\n",
              "</table>\n",
              "</div>\n",
              "    <div class=\"colab-df-buttons\">\n",
              "\n",
              "  <div class=\"colab-df-container\">\n",
              "    <button class=\"colab-df-convert\" onclick=\"convertToInteractive('df-3bcdebad-dbf0-4eba-a0c7-6483a242e5ee')\"\n",
              "            title=\"Convert this dataframe to an interactive table.\"\n",
              "            style=\"display:none;\">\n",
              "\n",
              "  <svg xmlns=\"http://www.w3.org/2000/svg\" height=\"24px\" viewBox=\"0 -960 960 960\">\n",
              "    <path d=\"M120-120v-720h720v720H120Zm60-500h600v-160H180v160Zm220 220h160v-160H400v160Zm0 220h160v-160H400v160ZM180-400h160v-160H180v160Zm440 0h160v-160H620v160ZM180-180h160v-160H180v160Zm440 0h160v-160H620v160Z\"/>\n",
              "  </svg>\n",
              "    </button>\n",
              "\n",
              "  <style>\n",
              "    .colab-df-container {\n",
              "      display:flex;\n",
              "      gap: 12px;\n",
              "    }\n",
              "\n",
              "    .colab-df-convert {\n",
              "      background-color: #E8F0FE;\n",
              "      border: none;\n",
              "      border-radius: 50%;\n",
              "      cursor: pointer;\n",
              "      display: none;\n",
              "      fill: #1967D2;\n",
              "      height: 32px;\n",
              "      padding: 0 0 0 0;\n",
              "      width: 32px;\n",
              "    }\n",
              "\n",
              "    .colab-df-convert:hover {\n",
              "      background-color: #E2EBFA;\n",
              "      box-shadow: 0px 1px 2px rgba(60, 64, 67, 0.3), 0px 1px 3px 1px rgba(60, 64, 67, 0.15);\n",
              "      fill: #174EA6;\n",
              "    }\n",
              "\n",
              "    .colab-df-buttons div {\n",
              "      margin-bottom: 4px;\n",
              "    }\n",
              "\n",
              "    [theme=dark] .colab-df-convert {\n",
              "      background-color: #3B4455;\n",
              "      fill: #D2E3FC;\n",
              "    }\n",
              "\n",
              "    [theme=dark] .colab-df-convert:hover {\n",
              "      background-color: #434B5C;\n",
              "      box-shadow: 0px 1px 3px 1px rgba(0, 0, 0, 0.15);\n",
              "      filter: drop-shadow(0px 1px 2px rgba(0, 0, 0, 0.3));\n",
              "      fill: #FFFFFF;\n",
              "    }\n",
              "  </style>\n",
              "\n",
              "    <script>\n",
              "      const buttonEl =\n",
              "        document.querySelector('#df-3bcdebad-dbf0-4eba-a0c7-6483a242e5ee button.colab-df-convert');\n",
              "      buttonEl.style.display =\n",
              "        google.colab.kernel.accessAllowed ? 'block' : 'none';\n",
              "\n",
              "      async function convertToInteractive(key) {\n",
              "        const element = document.querySelector('#df-3bcdebad-dbf0-4eba-a0c7-6483a242e5ee');\n",
              "        const dataTable =\n",
              "          await google.colab.kernel.invokeFunction('convertToInteractive',\n",
              "                                                    [key], {});\n",
              "        if (!dataTable) return;\n",
              "\n",
              "        const docLinkHtml = 'Like what you see? Visit the ' +\n",
              "          '<a target=\"_blank\" href=https://colab.research.google.com/notebooks/data_table.ipynb>data table notebook</a>'\n",
              "          + ' to learn more about interactive tables.';\n",
              "        element.innerHTML = '';\n",
              "        dataTable['output_type'] = 'display_data';\n",
              "        await google.colab.output.renderOutput(dataTable, element);\n",
              "        const docLink = document.createElement('div');\n",
              "        docLink.innerHTML = docLinkHtml;\n",
              "        element.appendChild(docLink);\n",
              "      }\n",
              "    </script>\n",
              "  </div>\n",
              "\n",
              "\n",
              "<div id=\"df-8f44289a-1ada-449a-856d-2846296ba5fc\">\n",
              "  <button class=\"colab-df-quickchart\" onclick=\"quickchart('df-8f44289a-1ada-449a-856d-2846296ba5fc')\"\n",
              "            title=\"Suggest charts.\"\n",
              "            style=\"display:none;\">\n",
              "\n",
              "<svg xmlns=\"http://www.w3.org/2000/svg\" height=\"24px\"viewBox=\"0 0 24 24\"\n",
              "     width=\"24px\">\n",
              "    <g>\n",
              "        <path d=\"M19 3H5c-1.1 0-2 .9-2 2v14c0 1.1.9 2 2 2h14c1.1 0 2-.9 2-2V5c0-1.1-.9-2-2-2zM9 17H7v-7h2v7zm4 0h-2V7h2v10zm4 0h-2v-4h2v4z\"/>\n",
              "    </g>\n",
              "</svg>\n",
              "  </button>\n",
              "\n",
              "<style>\n",
              "  .colab-df-quickchart {\n",
              "    background-color: #E8F0FE;\n",
              "    border: none;\n",
              "    border-radius: 50%;\n",
              "    cursor: pointer;\n",
              "    display: none;\n",
              "    fill: #1967D2;\n",
              "    height: 32px;\n",
              "    padding: 0 0 0 0;\n",
              "    width: 32px;\n",
              "  }\n",
              "\n",
              "  .colab-df-quickchart:hover {\n",
              "    background-color: #E2EBFA;\n",
              "    box-shadow: 0px 1px 2px rgba(60, 64, 67, 0.3), 0px 1px 3px 1px rgba(60, 64, 67, 0.15);\n",
              "    fill: #174EA6;\n",
              "  }\n",
              "\n",
              "  [theme=dark] .colab-df-quickchart {\n",
              "    background-color: #3B4455;\n",
              "    fill: #D2E3FC;\n",
              "  }\n",
              "\n",
              "  [theme=dark] .colab-df-quickchart:hover {\n",
              "    background-color: #434B5C;\n",
              "    box-shadow: 0px 1px 3px 1px rgba(0, 0, 0, 0.15);\n",
              "    filter: drop-shadow(0px 1px 2px rgba(0, 0, 0, 0.3));\n",
              "    fill: #FFFFFF;\n",
              "  }\n",
              "</style>\n",
              "\n",
              "  <script>\n",
              "    async function quickchart(key) {\n",
              "      const charts = await google.colab.kernel.invokeFunction(\n",
              "          'suggestCharts', [key], {});\n",
              "    }\n",
              "    (() => {\n",
              "      let quickchartButtonEl =\n",
              "        document.querySelector('#df-8f44289a-1ada-449a-856d-2846296ba5fc button');\n",
              "      quickchartButtonEl.style.display =\n",
              "        google.colab.kernel.accessAllowed ? 'block' : 'none';\n",
              "    })();\n",
              "  </script>\n",
              "</div>\n",
              "    </div>\n",
              "  </div>\n"
            ]
          },
          "metadata": {},
          "execution_count": 4
        }
      ]
    },
    {
      "cell_type": "markdown",
      "metadata": {
        "id": "JjQnr4SPzaL5"
      },
      "source": [
        "\n",
        "\n",
        "---\n",
        "\n"
      ]
    },
    {
      "cell_type": "markdown",
      "metadata": {
        "id": "vAmC369yTpMF"
      },
      "source": [
        "## 3. Checking the types of data"
      ]
    },
    {
      "cell_type": "markdown",
      "metadata": {
        "id": "9ESKxikIzA1d"
      },
      "source": [
        "Here we check for the datatypes because sometimes the MSRP or the price of the car would be stored as a string, if in that case, we have to convert that string to the integer data only then we can plot the data via a graph. Here, in this case, the data is already in integer format so nothing to worry."
      ]
    },
    {
      "cell_type": "code",
      "metadata": {
        "id": "qPbKQ0noRptD",
        "outputId": "6ce82fd7-ba9b-4781-f455-879a42b5b12e",
        "colab": {
          "base_uri": "https://localhost:8080/"
        }
      },
      "source": [
        "df.dtypes"
      ],
      "execution_count": 5,
      "outputs": [
        {
          "output_type": "execute_result",
          "data": {
            "text/plain": [
              "API            object\n",
              "Description    object\n",
              "Auth           object\n",
              "HTTPS            bool\n",
              "Cors           object\n",
              "Link           object\n",
              "Category       object\n",
              "dtype: object"
            ]
          },
          "metadata": {},
          "execution_count": 5
        }
      ]
    },
    {
      "cell_type": "markdown",
      "metadata": {
        "id": "beRJyQAezdX8"
      },
      "source": [
        "\n",
        "\n",
        "---\n",
        "\n"
      ]
    },
    {
      "cell_type": "markdown",
      "metadata": {
        "id": "QoHuBhXxT5E9"
      },
      "source": [
        "## 4. Dropping irrelevant columns"
      ]
    },
    {
      "cell_type": "markdown",
      "metadata": {
        "id": "_3cy877Mze4H"
      },
      "source": [
        "This step is certainly needed in every EDA because sometimes there would be many columns that we never use in such cases dropping is the only solution. In this case, the columns such as Engine Fuel Type, Market Category, Vehicle style, Popularity, Number of doors, Vehicle Size doesn't make any sense to me so I just dropped for this instance."
      ]
    },
    {
      "cell_type": "code",
      "metadata": {
        "id": "uvSkK8swTr9H",
        "outputId": "c8221a14-b8bd-4725-9e4d-4e5f663c4958",
        "colab": {
          "base_uri": "https://localhost:8080/",
          "height": 386
        }
      },
      "source": [
        "df = df.drop(['Auth'], axis=1)\n",
        "df.head(5)"
      ],
      "execution_count": 7,
      "outputs": [
        {
          "output_type": "execute_result",
          "data": {
            "text/plain": [
              "         API                                Description  HTTPS Cors  \\\n",
              "0  AdoptAPet          Resource to help get pets adopted   True  yes   \n",
              "1    Axolotl   Collection of axolotl pictures and facts   True   no   \n",
              "2  Cat Facts                            Daily cat facts   True   no   \n",
              "3     Cataas  Cat as a service (cats pictures and gifs)   True   no   \n",
              "4       Cats               Pictures of cats from Tumblr   True   no   \n",
              "\n",
              "                                                Link Category  \n",
              "0  https://www.adoptapet.com/public/apis/pet_list...  Animals  \n",
              "1                 https://theaxolotlapi.netlify.app/  Animals  \n",
              "2         https://alexwohlbruck.github.io/cat-facts/  Animals  \n",
              "3                                https://cataas.com/  Animals  \n",
              "4                        https://docs.thecatapi.com/  Animals  "
            ],
            "text/html": [
              "\n",
              "  <div id=\"df-40d26a03-2fc8-401a-8049-3b647259a7d9\" class=\"colab-df-container\">\n",
              "    <div>\n",
              "<style scoped>\n",
              "    .dataframe tbody tr th:only-of-type {\n",
              "        vertical-align: middle;\n",
              "    }\n",
              "\n",
              "    .dataframe tbody tr th {\n",
              "        vertical-align: top;\n",
              "    }\n",
              "\n",
              "    .dataframe thead th {\n",
              "        text-align: right;\n",
              "    }\n",
              "</style>\n",
              "<table border=\"1\" class=\"dataframe\">\n",
              "  <thead>\n",
              "    <tr style=\"text-align: right;\">\n",
              "      <th></th>\n",
              "      <th>API</th>\n",
              "      <th>Description</th>\n",
              "      <th>HTTPS</th>\n",
              "      <th>Cors</th>\n",
              "      <th>Link</th>\n",
              "      <th>Category</th>\n",
              "    </tr>\n",
              "  </thead>\n",
              "  <tbody>\n",
              "    <tr>\n",
              "      <th>0</th>\n",
              "      <td>AdoptAPet</td>\n",
              "      <td>Resource to help get pets adopted</td>\n",
              "      <td>True</td>\n",
              "      <td>yes</td>\n",
              "      <td>https://www.adoptapet.com/public/apis/pet_list...</td>\n",
              "      <td>Animals</td>\n",
              "    </tr>\n",
              "    <tr>\n",
              "      <th>1</th>\n",
              "      <td>Axolotl</td>\n",
              "      <td>Collection of axolotl pictures and facts</td>\n",
              "      <td>True</td>\n",
              "      <td>no</td>\n",
              "      <td>https://theaxolotlapi.netlify.app/</td>\n",
              "      <td>Animals</td>\n",
              "    </tr>\n",
              "    <tr>\n",
              "      <th>2</th>\n",
              "      <td>Cat Facts</td>\n",
              "      <td>Daily cat facts</td>\n",
              "      <td>True</td>\n",
              "      <td>no</td>\n",
              "      <td>https://alexwohlbruck.github.io/cat-facts/</td>\n",
              "      <td>Animals</td>\n",
              "    </tr>\n",
              "    <tr>\n",
              "      <th>3</th>\n",
              "      <td>Cataas</td>\n",
              "      <td>Cat as a service (cats pictures and gifs)</td>\n",
              "      <td>True</td>\n",
              "      <td>no</td>\n",
              "      <td>https://cataas.com/</td>\n",
              "      <td>Animals</td>\n",
              "    </tr>\n",
              "    <tr>\n",
              "      <th>4</th>\n",
              "      <td>Cats</td>\n",
              "      <td>Pictures of cats from Tumblr</td>\n",
              "      <td>True</td>\n",
              "      <td>no</td>\n",
              "      <td>https://docs.thecatapi.com/</td>\n",
              "      <td>Animals</td>\n",
              "    </tr>\n",
              "  </tbody>\n",
              "</table>\n",
              "</div>\n",
              "    <div class=\"colab-df-buttons\">\n",
              "\n",
              "  <div class=\"colab-df-container\">\n",
              "    <button class=\"colab-df-convert\" onclick=\"convertToInteractive('df-40d26a03-2fc8-401a-8049-3b647259a7d9')\"\n",
              "            title=\"Convert this dataframe to an interactive table.\"\n",
              "            style=\"display:none;\">\n",
              "\n",
              "  <svg xmlns=\"http://www.w3.org/2000/svg\" height=\"24px\" viewBox=\"0 -960 960 960\">\n",
              "    <path d=\"M120-120v-720h720v720H120Zm60-500h600v-160H180v160Zm220 220h160v-160H400v160Zm0 220h160v-160H400v160ZM180-400h160v-160H180v160Zm440 0h160v-160H620v160ZM180-180h160v-160H180v160Zm440 0h160v-160H620v160Z\"/>\n",
              "  </svg>\n",
              "    </button>\n",
              "\n",
              "  <style>\n",
              "    .colab-df-container {\n",
              "      display:flex;\n",
              "      gap: 12px;\n",
              "    }\n",
              "\n",
              "    .colab-df-convert {\n",
              "      background-color: #E8F0FE;\n",
              "      border: none;\n",
              "      border-radius: 50%;\n",
              "      cursor: pointer;\n",
              "      display: none;\n",
              "      fill: #1967D2;\n",
              "      height: 32px;\n",
              "      padding: 0 0 0 0;\n",
              "      width: 32px;\n",
              "    }\n",
              "\n",
              "    .colab-df-convert:hover {\n",
              "      background-color: #E2EBFA;\n",
              "      box-shadow: 0px 1px 2px rgba(60, 64, 67, 0.3), 0px 1px 3px 1px rgba(60, 64, 67, 0.15);\n",
              "      fill: #174EA6;\n",
              "    }\n",
              "\n",
              "    .colab-df-buttons div {\n",
              "      margin-bottom: 4px;\n",
              "    }\n",
              "\n",
              "    [theme=dark] .colab-df-convert {\n",
              "      background-color: #3B4455;\n",
              "      fill: #D2E3FC;\n",
              "    }\n",
              "\n",
              "    [theme=dark] .colab-df-convert:hover {\n",
              "      background-color: #434B5C;\n",
              "      box-shadow: 0px 1px 3px 1px rgba(0, 0, 0, 0.15);\n",
              "      filter: drop-shadow(0px 1px 2px rgba(0, 0, 0, 0.3));\n",
              "      fill: #FFFFFF;\n",
              "    }\n",
              "  </style>\n",
              "\n",
              "    <script>\n",
              "      const buttonEl =\n",
              "        document.querySelector('#df-40d26a03-2fc8-401a-8049-3b647259a7d9 button.colab-df-convert');\n",
              "      buttonEl.style.display =\n",
              "        google.colab.kernel.accessAllowed ? 'block' : 'none';\n",
              "\n",
              "      async function convertToInteractive(key) {\n",
              "        const element = document.querySelector('#df-40d26a03-2fc8-401a-8049-3b647259a7d9');\n",
              "        const dataTable =\n",
              "          await google.colab.kernel.invokeFunction('convertToInteractive',\n",
              "                                                    [key], {});\n",
              "        if (!dataTable) return;\n",
              "\n",
              "        const docLinkHtml = 'Like what you see? Visit the ' +\n",
              "          '<a target=\"_blank\" href=https://colab.research.google.com/notebooks/data_table.ipynb>data table notebook</a>'\n",
              "          + ' to learn more about interactive tables.';\n",
              "        element.innerHTML = '';\n",
              "        dataTable['output_type'] = 'display_data';\n",
              "        await google.colab.output.renderOutput(dataTable, element);\n",
              "        const docLink = document.createElement('div');\n",
              "        docLink.innerHTML = docLinkHtml;\n",
              "        element.appendChild(docLink);\n",
              "      }\n",
              "    </script>\n",
              "  </div>\n",
              "\n",
              "\n",
              "<div id=\"df-d0b724fe-0560-40e1-a083-eea3d547d9ab\">\n",
              "  <button class=\"colab-df-quickchart\" onclick=\"quickchart('df-d0b724fe-0560-40e1-a083-eea3d547d9ab')\"\n",
              "            title=\"Suggest charts.\"\n",
              "            style=\"display:none;\">\n",
              "\n",
              "<svg xmlns=\"http://www.w3.org/2000/svg\" height=\"24px\"viewBox=\"0 0 24 24\"\n",
              "     width=\"24px\">\n",
              "    <g>\n",
              "        <path d=\"M19 3H5c-1.1 0-2 .9-2 2v14c0 1.1.9 2 2 2h14c1.1 0 2-.9 2-2V5c0-1.1-.9-2-2-2zM9 17H7v-7h2v7zm4 0h-2V7h2v10zm4 0h-2v-4h2v4z\"/>\n",
              "    </g>\n",
              "</svg>\n",
              "  </button>\n",
              "\n",
              "<style>\n",
              "  .colab-df-quickchart {\n",
              "    background-color: #E8F0FE;\n",
              "    border: none;\n",
              "    border-radius: 50%;\n",
              "    cursor: pointer;\n",
              "    display: none;\n",
              "    fill: #1967D2;\n",
              "    height: 32px;\n",
              "    padding: 0 0 0 0;\n",
              "    width: 32px;\n",
              "  }\n",
              "\n",
              "  .colab-df-quickchart:hover {\n",
              "    background-color: #E2EBFA;\n",
              "    box-shadow: 0px 1px 2px rgba(60, 64, 67, 0.3), 0px 1px 3px 1px rgba(60, 64, 67, 0.15);\n",
              "    fill: #174EA6;\n",
              "  }\n",
              "\n",
              "  [theme=dark] .colab-df-quickchart {\n",
              "    background-color: #3B4455;\n",
              "    fill: #D2E3FC;\n",
              "  }\n",
              "\n",
              "  [theme=dark] .colab-df-quickchart:hover {\n",
              "    background-color: #434B5C;\n",
              "    box-shadow: 0px 1px 3px 1px rgba(0, 0, 0, 0.15);\n",
              "    filter: drop-shadow(0px 1px 2px rgba(0, 0, 0, 0.3));\n",
              "    fill: #FFFFFF;\n",
              "  }\n",
              "</style>\n",
              "\n",
              "  <script>\n",
              "    async function quickchart(key) {\n",
              "      const charts = await google.colab.kernel.invokeFunction(\n",
              "          'suggestCharts', [key], {});\n",
              "    }\n",
              "    (() => {\n",
              "      let quickchartButtonEl =\n",
              "        document.querySelector('#df-d0b724fe-0560-40e1-a083-eea3d547d9ab button');\n",
              "      quickchartButtonEl.style.display =\n",
              "        google.colab.kernel.accessAllowed ? 'block' : 'none';\n",
              "    })();\n",
              "  </script>\n",
              "</div>\n",
              "    </div>\n",
              "  </div>\n"
            ]
          },
          "metadata": {},
          "execution_count": 7
        }
      ]
    },
    {
      "cell_type": "markdown",
      "metadata": {
        "id": "20OeQBpWz89v"
      },
      "source": [
        "\n",
        "\n",
        "---\n",
        "\n"
      ]
    },
    {
      "cell_type": "markdown",
      "metadata": {
        "id": "caAownWdUZso"
      },
      "source": [
        "## 5. Renaming the columns"
      ]
    },
    {
      "cell_type": "markdown",
      "metadata": {
        "id": "UABLiEcyz-2G"
      },
      "source": [
        "In this instance, most of the column names are very confusing to read, so I just tweaked their column names. This is a good approach it improves the readability of the data set."
      ]
    },
    {
      "cell_type": "code",
      "metadata": {
        "id": "1wHW41whURub"
      },
      "source": [],
      "execution_count": 7,
      "outputs": []
    },
    {
      "cell_type": "markdown",
      "metadata": {
        "id": "5tcGiOmV0afN"
      },
      "source": [
        "\n",
        "\n",
        "---\n",
        "\n"
      ]
    },
    {
      "cell_type": "markdown",
      "metadata": {
        "id": "uiW7x_O4WIDX"
      },
      "source": [
        "## 6. Dropping the duplicate rows"
      ]
    },
    {
      "cell_type": "markdown",
      "metadata": {
        "id": "9LpR5NW70hXm"
      },
      "source": [
        "This is often a handy thing to do because a huge data set as in this case contains more than 10, 000 rows often have some duplicate data which might be disturbing, so here I remove all the duplicate value from the data-set. For example prior to removing I had 11914 rows of data but after removing the duplicates 10925 data meaning that I had 989 of duplicate data."
      ]
    },
    {
      "cell_type": "code",
      "metadata": {
        "id": "1nBN_BCDWSmv",
        "outputId": "98dabecf-59dc-4f10-e304-ea29764ff16e",
        "colab": {
          "base_uri": "https://localhost:8080/"
        }
      },
      "source": [
        "df.shape"
      ],
      "execution_count": 9,
      "outputs": [
        {
          "output_type": "execute_result",
          "data": {
            "text/plain": [
              "(1425, 6)"
            ]
          },
          "metadata": {},
          "execution_count": 9
        }
      ]
    },
    {
      "cell_type": "code",
      "metadata": {
        "id": "yB8t6o0wH7If",
        "outputId": "a40c5141-f79b-4c45-867d-813f84b177a7",
        "colab": {
          "base_uri": "https://localhost:8080/"
        }
      },
      "source": [
        "duplicate_rows_df = df[df.duplicated()]\n",
        "print(\"number of duplicate rows: \", duplicate_rows_df.shape)"
      ],
      "execution_count": 10,
      "outputs": [
        {
          "output_type": "stream",
          "name": "stdout",
          "text": [
            "number of duplicate rows:  (0, 6)\n"
          ]
        }
      ]
    },
    {
      "cell_type": "markdown",
      "metadata": {
        "id": "chhNvMFCIzqI"
      },
      "source": [
        "Now let us remove the duplicate data because it's ok to remove them."
      ]
    },
    {
      "cell_type": "code",
      "metadata": {
        "id": "kuobmetTV820",
        "outputId": "004c979d-124f-47ea-baa9-9a56c6788188",
        "colab": {
          "base_uri": "https://localhost:8080/"
        }
      },
      "source": [
        "df.count()      # Used to count the number of rows"
      ],
      "execution_count": 11,
      "outputs": [
        {
          "output_type": "execute_result",
          "data": {
            "text/plain": [
              "API            1425\n",
              "Description    1425\n",
              "HTTPS          1425\n",
              "Cors           1425\n",
              "Link           1425\n",
              "Category       1425\n",
              "dtype: int64"
            ]
          },
          "metadata": {},
          "execution_count": 11
        }
      ]
    },
    {
      "cell_type": "markdown",
      "metadata": {
        "id": "_MJKjbzHI40K"
      },
      "source": [
        "So seen above there are 11914 rows and we are removing 989 rows of duplicate data."
      ]
    },
    {
      "cell_type": "code",
      "metadata": {
        "id": "OiOsEF6WVTSj",
        "outputId": "1a442f7d-c2c5-4dcd-d2ef-8d47bd87a33d",
        "colab": {
          "base_uri": "https://localhost:8080/",
          "height": 386
        }
      },
      "source": [
        "df = df.drop_duplicates()\n",
        "df.head(5)"
      ],
      "execution_count": 12,
      "outputs": [
        {
          "output_type": "execute_result",
          "data": {
            "text/plain": [
              "         API                                Description  HTTPS Cors  \\\n",
              "0  AdoptAPet          Resource to help get pets adopted   True  yes   \n",
              "1    Axolotl   Collection of axolotl pictures and facts   True   no   \n",
              "2  Cat Facts                            Daily cat facts   True   no   \n",
              "3     Cataas  Cat as a service (cats pictures and gifs)   True   no   \n",
              "4       Cats               Pictures of cats from Tumblr   True   no   \n",
              "\n",
              "                                                Link Category  \n",
              "0  https://www.adoptapet.com/public/apis/pet_list...  Animals  \n",
              "1                 https://theaxolotlapi.netlify.app/  Animals  \n",
              "2         https://alexwohlbruck.github.io/cat-facts/  Animals  \n",
              "3                                https://cataas.com/  Animals  \n",
              "4                        https://docs.thecatapi.com/  Animals  "
            ],
            "text/html": [
              "\n",
              "  <div id=\"df-a94f285b-971b-455a-8795-04601ad6c9e5\" class=\"colab-df-container\">\n",
              "    <div>\n",
              "<style scoped>\n",
              "    .dataframe tbody tr th:only-of-type {\n",
              "        vertical-align: middle;\n",
              "    }\n",
              "\n",
              "    .dataframe tbody tr th {\n",
              "        vertical-align: top;\n",
              "    }\n",
              "\n",
              "    .dataframe thead th {\n",
              "        text-align: right;\n",
              "    }\n",
              "</style>\n",
              "<table border=\"1\" class=\"dataframe\">\n",
              "  <thead>\n",
              "    <tr style=\"text-align: right;\">\n",
              "      <th></th>\n",
              "      <th>API</th>\n",
              "      <th>Description</th>\n",
              "      <th>HTTPS</th>\n",
              "      <th>Cors</th>\n",
              "      <th>Link</th>\n",
              "      <th>Category</th>\n",
              "    </tr>\n",
              "  </thead>\n",
              "  <tbody>\n",
              "    <tr>\n",
              "      <th>0</th>\n",
              "      <td>AdoptAPet</td>\n",
              "      <td>Resource to help get pets adopted</td>\n",
              "      <td>True</td>\n",
              "      <td>yes</td>\n",
              "      <td>https://www.adoptapet.com/public/apis/pet_list...</td>\n",
              "      <td>Animals</td>\n",
              "    </tr>\n",
              "    <tr>\n",
              "      <th>1</th>\n",
              "      <td>Axolotl</td>\n",
              "      <td>Collection of axolotl pictures and facts</td>\n",
              "      <td>True</td>\n",
              "      <td>no</td>\n",
              "      <td>https://theaxolotlapi.netlify.app/</td>\n",
              "      <td>Animals</td>\n",
              "    </tr>\n",
              "    <tr>\n",
              "      <th>2</th>\n",
              "      <td>Cat Facts</td>\n",
              "      <td>Daily cat facts</td>\n",
              "      <td>True</td>\n",
              "      <td>no</td>\n",
              "      <td>https://alexwohlbruck.github.io/cat-facts/</td>\n",
              "      <td>Animals</td>\n",
              "    </tr>\n",
              "    <tr>\n",
              "      <th>3</th>\n",
              "      <td>Cataas</td>\n",
              "      <td>Cat as a service (cats pictures and gifs)</td>\n",
              "      <td>True</td>\n",
              "      <td>no</td>\n",
              "      <td>https://cataas.com/</td>\n",
              "      <td>Animals</td>\n",
              "    </tr>\n",
              "    <tr>\n",
              "      <th>4</th>\n",
              "      <td>Cats</td>\n",
              "      <td>Pictures of cats from Tumblr</td>\n",
              "      <td>True</td>\n",
              "      <td>no</td>\n",
              "      <td>https://docs.thecatapi.com/</td>\n",
              "      <td>Animals</td>\n",
              "    </tr>\n",
              "  </tbody>\n",
              "</table>\n",
              "</div>\n",
              "    <div class=\"colab-df-buttons\">\n",
              "\n",
              "  <div class=\"colab-df-container\">\n",
              "    <button class=\"colab-df-convert\" onclick=\"convertToInteractive('df-a94f285b-971b-455a-8795-04601ad6c9e5')\"\n",
              "            title=\"Convert this dataframe to an interactive table.\"\n",
              "            style=\"display:none;\">\n",
              "\n",
              "  <svg xmlns=\"http://www.w3.org/2000/svg\" height=\"24px\" viewBox=\"0 -960 960 960\">\n",
              "    <path d=\"M120-120v-720h720v720H120Zm60-500h600v-160H180v160Zm220 220h160v-160H400v160Zm0 220h160v-160H400v160ZM180-400h160v-160H180v160Zm440 0h160v-160H620v160ZM180-180h160v-160H180v160Zm440 0h160v-160H620v160Z\"/>\n",
              "  </svg>\n",
              "    </button>\n",
              "\n",
              "  <style>\n",
              "    .colab-df-container {\n",
              "      display:flex;\n",
              "      gap: 12px;\n",
              "    }\n",
              "\n",
              "    .colab-df-convert {\n",
              "      background-color: #E8F0FE;\n",
              "      border: none;\n",
              "      border-radius: 50%;\n",
              "      cursor: pointer;\n",
              "      display: none;\n",
              "      fill: #1967D2;\n",
              "      height: 32px;\n",
              "      padding: 0 0 0 0;\n",
              "      width: 32px;\n",
              "    }\n",
              "\n",
              "    .colab-df-convert:hover {\n",
              "      background-color: #E2EBFA;\n",
              "      box-shadow: 0px 1px 2px rgba(60, 64, 67, 0.3), 0px 1px 3px 1px rgba(60, 64, 67, 0.15);\n",
              "      fill: #174EA6;\n",
              "    }\n",
              "\n",
              "    .colab-df-buttons div {\n",
              "      margin-bottom: 4px;\n",
              "    }\n",
              "\n",
              "    [theme=dark] .colab-df-convert {\n",
              "      background-color: #3B4455;\n",
              "      fill: #D2E3FC;\n",
              "    }\n",
              "\n",
              "    [theme=dark] .colab-df-convert:hover {\n",
              "      background-color: #434B5C;\n",
              "      box-shadow: 0px 1px 3px 1px rgba(0, 0, 0, 0.15);\n",
              "      filter: drop-shadow(0px 1px 2px rgba(0, 0, 0, 0.3));\n",
              "      fill: #FFFFFF;\n",
              "    }\n",
              "  </style>\n",
              "\n",
              "    <script>\n",
              "      const buttonEl =\n",
              "        document.querySelector('#df-a94f285b-971b-455a-8795-04601ad6c9e5 button.colab-df-convert');\n",
              "      buttonEl.style.display =\n",
              "        google.colab.kernel.accessAllowed ? 'block' : 'none';\n",
              "\n",
              "      async function convertToInteractive(key) {\n",
              "        const element = document.querySelector('#df-a94f285b-971b-455a-8795-04601ad6c9e5');\n",
              "        const dataTable =\n",
              "          await google.colab.kernel.invokeFunction('convertToInteractive',\n",
              "                                                    [key], {});\n",
              "        if (!dataTable) return;\n",
              "\n",
              "        const docLinkHtml = 'Like what you see? Visit the ' +\n",
              "          '<a target=\"_blank\" href=https://colab.research.google.com/notebooks/data_table.ipynb>data table notebook</a>'\n",
              "          + ' to learn more about interactive tables.';\n",
              "        element.innerHTML = '';\n",
              "        dataTable['output_type'] = 'display_data';\n",
              "        await google.colab.output.renderOutput(dataTable, element);\n",
              "        const docLink = document.createElement('div');\n",
              "        docLink.innerHTML = docLinkHtml;\n",
              "        element.appendChild(docLink);\n",
              "      }\n",
              "    </script>\n",
              "  </div>\n",
              "\n",
              "\n",
              "<div id=\"df-a6118ce8-177b-416f-a051-bcb4a3ba32df\">\n",
              "  <button class=\"colab-df-quickchart\" onclick=\"quickchart('df-a6118ce8-177b-416f-a051-bcb4a3ba32df')\"\n",
              "            title=\"Suggest charts.\"\n",
              "            style=\"display:none;\">\n",
              "\n",
              "<svg xmlns=\"http://www.w3.org/2000/svg\" height=\"24px\"viewBox=\"0 0 24 24\"\n",
              "     width=\"24px\">\n",
              "    <g>\n",
              "        <path d=\"M19 3H5c-1.1 0-2 .9-2 2v14c0 1.1.9 2 2 2h14c1.1 0 2-.9 2-2V5c0-1.1-.9-2-2-2zM9 17H7v-7h2v7zm4 0h-2V7h2v10zm4 0h-2v-4h2v4z\"/>\n",
              "    </g>\n",
              "</svg>\n",
              "  </button>\n",
              "\n",
              "<style>\n",
              "  .colab-df-quickchart {\n",
              "    background-color: #E8F0FE;\n",
              "    border: none;\n",
              "    border-radius: 50%;\n",
              "    cursor: pointer;\n",
              "    display: none;\n",
              "    fill: #1967D2;\n",
              "    height: 32px;\n",
              "    padding: 0 0 0 0;\n",
              "    width: 32px;\n",
              "  }\n",
              "\n",
              "  .colab-df-quickchart:hover {\n",
              "    background-color: #E2EBFA;\n",
              "    box-shadow: 0px 1px 2px rgba(60, 64, 67, 0.3), 0px 1px 3px 1px rgba(60, 64, 67, 0.15);\n",
              "    fill: #174EA6;\n",
              "  }\n",
              "\n",
              "  [theme=dark] .colab-df-quickchart {\n",
              "    background-color: #3B4455;\n",
              "    fill: #D2E3FC;\n",
              "  }\n",
              "\n",
              "  [theme=dark] .colab-df-quickchart:hover {\n",
              "    background-color: #434B5C;\n",
              "    box-shadow: 0px 1px 3px 1px rgba(0, 0, 0, 0.15);\n",
              "    filter: drop-shadow(0px 1px 2px rgba(0, 0, 0, 0.3));\n",
              "    fill: #FFFFFF;\n",
              "  }\n",
              "</style>\n",
              "\n",
              "  <script>\n",
              "    async function quickchart(key) {\n",
              "      const charts = await google.colab.kernel.invokeFunction(\n",
              "          'suggestCharts', [key], {});\n",
              "    }\n",
              "    (() => {\n",
              "      let quickchartButtonEl =\n",
              "        document.querySelector('#df-a6118ce8-177b-416f-a051-bcb4a3ba32df button');\n",
              "      quickchartButtonEl.style.display =\n",
              "        google.colab.kernel.accessAllowed ? 'block' : 'none';\n",
              "    })();\n",
              "  </script>\n",
              "</div>\n",
              "    </div>\n",
              "  </div>\n"
            ]
          },
          "metadata": {},
          "execution_count": 12
        }
      ]
    },
    {
      "cell_type": "code",
      "metadata": {
        "id": "2gMM4lb0Vzor",
        "outputId": "fff2b108-7f94-43e1-8396-61531357776e",
        "colab": {
          "base_uri": "https://localhost:8080/"
        }
      },
      "source": [
        "df.count()"
      ],
      "execution_count": 13,
      "outputs": [
        {
          "output_type": "execute_result",
          "data": {
            "text/plain": [
              "API            1425\n",
              "Description    1425\n",
              "HTTPS          1425\n",
              "Cors           1425\n",
              "Link           1425\n",
              "Category       1425\n",
              "dtype: int64"
            ]
          },
          "metadata": {},
          "execution_count": 13
        }
      ]
    },
    {
      "cell_type": "markdown",
      "metadata": {
        "id": "zCLUdZOQ1PDP"
      },
      "source": [
        "\n",
        "\n",
        "---\n",
        "\n"
      ]
    },
    {
      "cell_type": "markdown",
      "metadata": {
        "id": "JkXUQtyQW3Dy"
      },
      "source": [
        "## 7. Dropping the missing or null values."
      ]
    },
    {
      "cell_type": "markdown",
      "metadata": {
        "id": "K5pKvJi41YCp"
      },
      "source": [
        "This is mostly similar to the previous step but in here all the missing values are detected and are dropped later. Now, this is not a good approach to do so, because many people just replace the missing values with the mean or the average of that column, but in this case, I just dropped that missing values. This is because there is nearly 100 missing value compared to 10, 000 values this is a small number and this is negligible so I just dropped those values."
      ]
    },
    {
      "cell_type": "code",
      "metadata": {
        "id": "Tzdlg-1OWjMz",
        "outputId": "9e0114fe-5077-4089-c7a5-bffc00049f20",
        "colab": {
          "base_uri": "https://localhost:8080/"
        }
      },
      "source": [
        "print(df.isnull().sum())"
      ],
      "execution_count": 14,
      "outputs": [
        {
          "output_type": "stream",
          "name": "stdout",
          "text": [
            "API            0\n",
            "Description    0\n",
            "HTTPS          0\n",
            "Cors           0\n",
            "Link           0\n",
            "Category       0\n",
            "dtype: int64\n"
          ]
        }
      ]
    },
    {
      "cell_type": "markdown",
      "metadata": {
        "id": "iWJqTVxTJQnO"
      },
      "source": [
        "This is the reason in the above step while counting both Cylinders and Horsepower (HP) had 10856 and 10895 over 10925 rows."
      ]
    },
    {
      "cell_type": "code",
      "metadata": {
        "id": "KbbV0xHPWoad",
        "outputId": "59657a14-c2a4-4cfa-a3d5-660ad4d6ef39",
        "colab": {
          "base_uri": "https://localhost:8080/"
        }
      },
      "source": [
        "df = df.dropna()    # Dropping the missing values.\n",
        "df.count()"
      ],
      "execution_count": 15,
      "outputs": [
        {
          "output_type": "execute_result",
          "data": {
            "text/plain": [
              "API            1425\n",
              "Description    1425\n",
              "HTTPS          1425\n",
              "Cors           1425\n",
              "Link           1425\n",
              "Category       1425\n",
              "dtype: int64"
            ]
          },
          "metadata": {},
          "execution_count": 15
        }
      ]
    },
    {
      "cell_type": "markdown",
      "metadata": {
        "id": "2t7L9l2mJSoX"
      },
      "source": [
        "Now we have removed all the rows which contain the Null or N/A values (Cylinders and Horsepower (HP))."
      ]
    },
    {
      "cell_type": "code",
      "metadata": {
        "id": "V-DmX1O4Wtox",
        "outputId": "1534a1b1-58aa-45ce-f846-e631aec2dca0",
        "colab": {
          "base_uri": "https://localhost:8080/"
        }
      },
      "source": [
        "print(df.isnull().sum())   # After dropping the values"
      ],
      "execution_count": 20,
      "outputs": [
        {
          "output_type": "stream",
          "name": "stdout",
          "text": [
            "API            0\n",
            "Description    0\n",
            "HTTPS          0\n",
            "Cors           0\n",
            "Link           0\n",
            "Category       0\n",
            "dtype: int64\n"
          ]
        }
      ]
    },
    {
      "cell_type": "code",
      "source": [
        "from google.colab import files\n",
        "df.to_csv('/content/publicapi_entries.csv')\n",
        "files.download('/content/publicapi_entries.csv')"
      ],
      "metadata": {
        "colab": {
          "base_uri": "https://localhost:8080/",
          "height": 38
        },
        "id": "_qoe-f0cGJPA",
        "outputId": "aa554bca-3544-4833-ffa5-367f615ad3bd"
      },
      "execution_count": 24,
      "outputs": [
        {
          "output_type": "display_data",
          "data": {
            "text/plain": [
              "<IPython.core.display.Javascript object>"
            ],
            "application/javascript": [
              "\n",
              "    async function download(id, filename, size) {\n",
              "      if (!google.colab.kernel.accessAllowed) {\n",
              "        return;\n",
              "      }\n",
              "      const div = document.createElement('div');\n",
              "      const label = document.createElement('label');\n",
              "      label.textContent = `Downloading \"${filename}\": `;\n",
              "      div.appendChild(label);\n",
              "      const progress = document.createElement('progress');\n",
              "      progress.max = size;\n",
              "      div.appendChild(progress);\n",
              "      document.body.appendChild(div);\n",
              "\n",
              "      const buffers = [];\n",
              "      let downloaded = 0;\n",
              "\n",
              "      const channel = await google.colab.kernel.comms.open(id);\n",
              "      // Send a message to notify the kernel that we're ready.\n",
              "      channel.send({})\n",
              "\n",
              "      for await (const message of channel.messages) {\n",
              "        // Send a message to notify the kernel that we're ready.\n",
              "        channel.send({})\n",
              "        if (message.buffers) {\n",
              "          for (const buffer of message.buffers) {\n",
              "            buffers.push(buffer);\n",
              "            downloaded += buffer.byteLength;\n",
              "            progress.value = downloaded;\n",
              "          }\n",
              "        }\n",
              "      }\n",
              "      const blob = new Blob(buffers, {type: 'application/binary'});\n",
              "      const a = document.createElement('a');\n",
              "      a.href = window.URL.createObjectURL(blob);\n",
              "      a.download = filename;\n",
              "      div.appendChild(a);\n",
              "      a.click();\n",
              "      div.remove();\n",
              "    }\n",
              "  "
            ]
          },
          "metadata": {}
        },
        {
          "output_type": "display_data",
          "data": {
            "text/plain": [
              "<IPython.core.display.Javascript object>"
            ],
            "application/javascript": [
              "download(\"download_e2d726f3-ecca-4079-85f4-f45852b8ca62\", \"publicapi_entries.csv\", 174454)"
            ]
          },
          "metadata": {}
        }
      ]
    },
    {
      "cell_type": "markdown",
      "metadata": {
        "id": "bk8RAHqQJVJK"
      },
      "source": [
        "\n",
        "\n",
        "---\n",
        "\n"
      ]
    },
    {
      "cell_type": "markdown",
      "metadata": {
        "id": "8Py3sQc_ZxyU"
      },
      "source": [
        "## 8. Detecting Outliers"
      ]
    },
    {
      "cell_type": "code",
      "source": [],
      "metadata": {
        "id": "170p63hfGH5s"
      },
      "execution_count": null,
      "outputs": []
    },
    {
      "cell_type": "markdown",
      "metadata": {
        "id": "1g6CJPofZzHN"
      },
      "source": [
        "An outlier is a point or set of points that are different from other points. Sometimes they can be very high or very low. It's often a good idea to detect and remove the outliers. Because outliers are one of the primary reasons for resulting in a less accurate model. Hence it's a good idea to remove them. The outlier detection and removing that I am going to perform is called IQR score technique. Often outliers can be seen with visualizations using a box plot. Shown below are the box plot of MSRP, Cylinders, Horsepower and EngineSize. Herein all the plots, you can find some points are outside the box they are none other than outliers. The technique of finding and removing outlier that I am performing in this assignment is taken help of a tutorial from[ towards data science](https://towardsdatascience.com/ways-to-detect-and-remove-the-outliers-404d16608dba)."
      ]
    },
    {
      "cell_type": "markdown",
      "metadata": {
        "id": "kCv110_cJiDz"
      },
      "source": [
        "Don't worry about the above values because it's not important to know each and every one of them because it's just important to know how to use this technique in order to remove the outliers."
      ]
    },
    {
      "cell_type": "markdown",
      "metadata": {
        "id": "9Nh93DCGJkqT"
      },
      "source": [
        "As seen above there were around 1600 rows were outliers. But you cannot completely remove the outliers because even after you use the above technique there maybe 1–2 outlier unremoved but that ok because there were more than 100 outliers. Something is better than nothing."
      ]
    },
    {
      "cell_type": "markdown",
      "metadata": {
        "id": "Z87kHbgvaQbb"
      },
      "source": [
        "\n",
        "\n",
        "---\n",
        "\n"
      ]
    },
    {
      "cell_type": "markdown",
      "metadata": {
        "id": "WqFPRda8eEp_"
      },
      "source": [
        "## 9. Plot different features against one another (scatter), against frequency (histogram)"
      ]
    },
    {
      "cell_type": "markdown",
      "metadata": {
        "id": "Z-W6Q9-hJosZ"
      },
      "source": [
        "### Histogram\n",
        "\n",
        "Histogram refers to the frequency of occurrence of variables in an interval. In this case, there are mainly 10 different types of car manufacturing companies, but it is often important to know who has the most number of cars. To do this histogram is one of the trivial solutions which lets us know the total number of car manufactured by a different company."
      ]
    },
    {
      "cell_type": "markdown",
      "metadata": {
        "id": "c37WtYYWJuAQ"
      },
      "source": [
        "### Heat Maps\n",
        "\n",
        "Heat Maps is a type of plot which is necessary when we need to find the dependent variables. One of the best way to find the relationship between the features can be done using heat maps. In the below heat map we know that the price feature depends mainly on the Engine Size, Horsepower, and Cylinders."
      ]
    },
    {
      "cell_type": "markdown",
      "metadata": {
        "id": "1ROThOLQfRZw"
      },
      "source": [
        "### Scatterplot\n",
        "\n",
        "We generally use scatter plots to find the correlation between two variables. Here the scatter plots are plotted between Horsepower and Price and we can see the plot below. With the plot given below, we can easily draw a trend line. These features provide a good scattering of points."
      ]
    },
    {
      "cell_type": "markdown",
      "metadata": {
        "id": "hQXy8o_gKFS5"
      },
      "source": [
        "**Hence the above are some of the steps involved in Exploratory data analysis, these are some general steps that you must follow in order to perform EDA. There are many more yet to come but for now, this is more than enough idea as to how to perform a good EDA given any data sets. Stay tuned for more updates.**\n",
        "\n",
        "## Thank you."
      ]
    }
  ]
}