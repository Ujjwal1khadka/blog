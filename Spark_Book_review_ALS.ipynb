{
  "nbformat": 4,
  "nbformat_minor": 0,
  "metadata": {
    "colab": {
      "provenance": [],
      "gpuType": "T4",
      "authorship_tag": "ABX9TyMckn7AC9MynfnTk4e++ZTx",
      "include_colab_link": true
    },
    "kernelspec": {
      "name": "python3",
      "display_name": "Python 3"
    },
    "language_info": {
      "name": "python"
    }
  },
  "cells": [
    {
      "cell_type": "markdown",
      "metadata": {
        "id": "view-in-github",
        "colab_type": "text"
      },
      "source": [
        "<a href=\"https://colab.research.google.com/github/Ujjwal1khadka/blog/blob/main/Spark_Book_review_ALS.ipynb\" target=\"_parent\"><img src=\"https://colab.research.google.com/assets/colab-badge.svg\" alt=\"Open In Colab\"/></a>"
      ]
    },
    {
      "cell_type": "code",
      "execution_count": 161,
      "metadata": {
        "colab": {
          "base_uri": "https://localhost:8080/",
          "height": 219
        },
        "id": "_eq4wwsY1VAf",
        "outputId": "415372bd-160f-42b8-d516-2d53cdd6947a"
      },
      "outputs": [
        {
          "output_type": "execute_result",
          "data": {
            "text/plain": [
              "<pyspark.sql.session.SparkSession at 0x7ccb446a1450>"
            ],
            "text/html": [
              "\n",
              "            <div>\n",
              "                <p><b>SparkSession - in-memory</b></p>\n",
              "                \n",
              "        <div>\n",
              "            <p><b>SparkContext</b></p>\n",
              "\n",
              "            <p><a href=\"http://76ec03b9e082:4040\">Spark UI</a></p>\n",
              "\n",
              "            <dl>\n",
              "              <dt>Version</dt>\n",
              "                <dd><code>v3.5.1</code></dd>\n",
              "              <dt>Master</dt>\n",
              "                <dd><code>local[*]</code></dd>\n",
              "              <dt>AppName</dt>\n",
              "                <dd><code>Recommender</code></dd>\n",
              "            </dl>\n",
              "        </div>\n",
              "        \n",
              "            </div>\n",
              "        "
            ]
          },
          "metadata": {},
          "execution_count": 161
        }
      ],
      "source": [
        "from pyspark.sql import SparkSession\n",
        "from pyspark.sql.functions import count\n",
        "from pyspark.sql.functions import col\n",
        "\n",
        "\n",
        "from pyspark.ml.evaluation import RegressionEvaluator\n",
        "from pyspark.ml.recommendation import ALS\n",
        "from pyspark.sql import Row\n",
        "\n",
        "#Setup Spark Session\n",
        "spark = SparkSession.builder.appName('Recommender').getOrCreate()\n",
        "spark"
      ]
    },
    {
      "cell_type": "code",
      "source": [
        "df = spark.read.csv(\"/content/book_ratings.csv\",  header=True, inferSchema=True)"
      ],
      "metadata": {
        "id": "oryZ2vIqJPhQ"
      },
      "execution_count": 162,
      "outputs": []
    },
    {
      "cell_type": "code",
      "source": [
        "print((df.count(), len(df.columns)))"
      ],
      "metadata": {
        "colab": {
          "base_uri": "https://localhost:8080/"
        },
        "id": "EzCLVrNOxAK0",
        "outputId": "70576f5a-606d-425d-ae13-bbeba1ecbde7"
      },
      "execution_count": 163,
      "outputs": [
        {
          "output_type": "stream",
          "name": "stdout",
          "text": [
            "(981756, 3)\n"
          ]
        }
      ]
    },
    {
      "cell_type": "code",
      "source": [
        "df= df.na.drop()"
      ],
      "metadata": {
        "id": "WT0Apnvz7rir"
      },
      "execution_count": 164,
      "outputs": []
    },
    {
      "cell_type": "code",
      "source": [
        "df.count()"
      ],
      "metadata": {
        "colab": {
          "base_uri": "https://localhost:8080/"
        },
        "id": "y6p5vIJu7rkr",
        "outputId": "8604ffe6-902b-4c7a-9b9b-7c554e950e17"
      },
      "execution_count": 165,
      "outputs": [
        {
          "output_type": "execute_result",
          "data": {
            "text/plain": [
              "981756"
            ]
          },
          "metadata": {},
          "execution_count": 165
        }
      ]
    },
    {
      "cell_type": "code",
      "source": [
        "df.show(50)"
      ],
      "metadata": {
        "colab": {
          "base_uri": "https://localhost:8080/"
        },
        "id": "VTpT4Qc6xDYY",
        "outputId": "aabf3beb-2a2d-4932-ea13-df6dd7b11f28"
      },
      "execution_count": 187,
      "outputs": [
        {
          "output_type": "stream",
          "name": "stdout",
          "text": [
            "+-------+-------+------+\n",
            "|book_id|user_id|rating|\n",
            "+-------+-------+------+\n",
            "|     10|   7001|     4|\n",
            "|     13|  29819|     4|\n",
            "|     13|  49297|     5|\n",
            "|     16|  28158|     4|\n",
            "|     18|  15318|     3|\n",
            "|     19|   3922|     5|\n",
            "|     20|  10288|     2|\n",
            "|     20|  47730|     5|\n",
            "|     22|  16377|     5|\n",
            "|     25|  24582|     5|\n",
            "|     28|  47800|     5|\n",
            "|     30|   6630|     3|\n",
            "|     30|  10610|     5|\n",
            "|     31|   5379|     4|\n",
            "|     31|  19526|     5|\n",
            "|     35|   1169|     1|\n",
            "|     35|  11285|     3|\n",
            "|     38|  36099|     4|\n",
            "|     40|  14248|     3|\n",
            "|     41|  10249|     5|\n",
            "|     42|  38798|     3|\n",
            "|     46|  13544|     4|\n",
            "|     48|  21733|     4|\n",
            "|     49|  23612|     3|\n",
            "|     50|   3022|     3|\n",
            "|     51|  50289|     2|\n",
            "|     53|  26942|     3|\n",
            "|     55|  11868|     5|\n",
            "|     55|  32748|     5|\n",
            "|     56|   9804|     3|\n",
            "|     58|   4536|     2|\n",
            "|     58|  12455|     4|\n",
            "|     58|  17228|     5|\n",
            "|     62|  10140|     2|\n",
            "|     62|  13360|     4|\n",
            "|     65|  21217|     3|\n",
            "|     65|  27934|     4|\n",
            "|     67|  13991|     4|\n",
            "|     67|  43622|     3|\n",
            "|     68|  50610|     3|\n",
            "|     69|  19724|     4|\n",
            "|     70|   2171|     5|\n",
            "|     72|  24499|     4|\n",
            "|     72|  30794|     4|\n",
            "|     73|  27740|     3|\n",
            "|     77|  32635|     3|\n",
            "|     78|    368|     3|\n",
            "|     94|  46421|     5|\n",
            "|     98|  10944|     5|\n",
            "|     98|  30313|     5|\n",
            "+-------+-------+------+\n",
            "only showing top 50 rows\n",
            "\n"
          ]
        }
      ]
    },
    {
      "cell_type": "code",
      "source": [
        "df = df.dropDuplicates()\n",
        "df.show()"
      ],
      "metadata": {
        "colab": {
          "base_uri": "https://localhost:8080/"
        },
        "id": "lahu1M-DHdd2",
        "outputId": "ada64644-83e5-481f-9f8e-a5ce9760bb02"
      },
      "execution_count": 167,
      "outputs": [
        {
          "output_type": "stream",
          "name": "stdout",
          "text": [
            "+-------+-------+------+\n",
            "|book_id|user_id|rating|\n",
            "+-------+-------+------+\n",
            "|     10|   7001|     4|\n",
            "|     13|  29819|     4|\n",
            "|     13|  49297|     5|\n",
            "|     16|  28158|     4|\n",
            "|     18|  15318|     3|\n",
            "|     19|   3922|     5|\n",
            "|     20|  10288|     2|\n",
            "|     20|  47730|     5|\n",
            "|     22|  16377|     5|\n",
            "|     25|  24582|     5|\n",
            "|     28|  47800|     5|\n",
            "|     30|   6630|     3|\n",
            "|     30|  10610|     5|\n",
            "|     31|   5379|     4|\n",
            "|     31|  19526|     5|\n",
            "|     35|   1169|     1|\n",
            "|     35|  11285|     3|\n",
            "|     38|  36099|     4|\n",
            "|     40|  14248|     3|\n",
            "|     41|  10249|     5|\n",
            "+-------+-------+------+\n",
            "only showing top 20 rows\n",
            "\n"
          ]
        }
      ]
    },
    {
      "cell_type": "code",
      "source": [
        "df.count()"
      ],
      "metadata": {
        "colab": {
          "base_uri": "https://localhost:8080/"
        },
        "id": "SRaNiU0HHdf9",
        "outputId": "556aab08-017f-457e-a8d4-e2f56e1237db"
      },
      "execution_count": 168,
      "outputs": [
        {
          "output_type": "execute_result",
          "data": {
            "text/plain": [
              "980112"
            ]
          },
          "metadata": {},
          "execution_count": 168
        }
      ]
    },
    {
      "cell_type": "code",
      "source": [
        "df.printSchema()\n"
      ],
      "metadata": {
        "colab": {
          "base_uri": "https://localhost:8080/"
        },
        "id": "6yeJf4O-xE82",
        "outputId": "8ca76201-af65-4e7d-e9be-72e45ebf63b2"
      },
      "execution_count": 169,
      "outputs": [
        {
          "output_type": "stream",
          "name": "stdout",
          "text": [
            "root\n",
            " |-- book_id: integer (nullable = true)\n",
            " |-- user_id: integer (nullable = true)\n",
            " |-- rating: integer (nullable = true)\n",
            "\n"
          ]
        }
      ]
    },
    {
      "cell_type": "code",
      "source": [
        "train_data, test_data = df.randomSplit([0.8, 0.2])\n"
      ],
      "metadata": {
        "id": "VmHDAR-pxcyh"
      },
      "execution_count": 170,
      "outputs": []
    },
    {
      "cell_type": "code",
      "source": [
        "als = ALS( userCol=\"user_id\", itemCol=\"book_id\", ratingCol=\"rating\",\n",
        "          coldStartStrategy=\"drop\", nonnegative = True, implicitPrefs = False)"
      ],
      "metadata": {
        "id": "qbZOh3vDysSu"
      },
      "execution_count": 171,
      "outputs": []
    },
    {
      "cell_type": "code",
      "source": [
        "type(als)\n"
      ],
      "metadata": {
        "colab": {
          "base_uri": "https://localhost:8080/",
          "height": 256
        },
        "id": "wizh8jgx2R5g",
        "outputId": "5431421e-b284-4dff-ccaf-5c3d89fc8c6b"
      },
      "execution_count": 172,
      "outputs": [
        {
          "output_type": "execute_result",
          "data": {
            "text/plain": [
              "pyspark.ml.recommendation.ALS"
            ],
            "text/html": [
              "<div style=\"max-width:800px; border: 1px solid var(--colab-border-color);\"><style>\n",
              "      pre.function-repr-contents {\n",
              "        overflow-x: auto;\n",
              "        padding: 8px 12px;\n",
              "        max-height: 500px;\n",
              "      }\n",
              "\n",
              "      pre.function-repr-contents.function-repr-contents-collapsed {\n",
              "        cursor: pointer;\n",
              "        max-height: 100px;\n",
              "      }\n",
              "    </style>\n",
              "    <pre style=\"white-space: initial; background:\n",
              "         var(--colab-secondary-surface-color); padding: 8px 12px;\n",
              "         border-bottom: 1px solid var(--colab-border-color);\"><b>pyspark.ml.recommendation.ALS</b><br/>def __init__(*, rank: int=10, maxIter: int=10, regParam: float=0.1, numUserBlocks: int=10, numItemBlocks: int=10, implicitPrefs: bool=False, alpha: float=1.0, userCol: str=&#x27;user&#x27;, itemCol: str=&#x27;item&#x27;, seed: Optional[int]=None, ratingCol: str=&#x27;rating&#x27;, nonnegative: bool=False, checkpointInterval: int=10, intermediateStorageLevel: str=&#x27;MEMORY_AND_DISK&#x27;, finalStorageLevel: str=&#x27;MEMORY_AND_DISK&#x27;, coldStartStrategy: str=&#x27;nan&#x27;, blockSize: int=4096)</pre><pre class=\"function-repr-contents function-repr-contents-collapsed\" style=\"\"><a class=\"filepath\" style=\"display:none\" href=\"#\">/usr/local/lib/python3.10/dist-packages/pyspark/ml/recommendation.py</a>Alternating Least Squares (ALS) matrix factorization.\n",
              "\n",
              "ALS attempts to estimate the ratings matrix `R` as the product of\n",
              "two lower-rank matrices, `X` and `Y`, i.e. `X * Yt = R`. Typically\n",
              "these approximations are called &#x27;factor&#x27; matrices. The general\n",
              "approach is iterative. During each iteration, one of the factor\n",
              "matrices is held constant, while the other is solved for using least\n",
              "squares. The newly-solved factor matrix is then held constant while\n",
              "solving for the other factor matrix.\n",
              "\n",
              "This is a blocked implementation of the ALS factorization algorithm\n",
              "that groups the two sets of factors (referred to as &quot;users&quot; and\n",
              "&quot;products&quot;) into blocks and reduces communication by only sending\n",
              "one copy of each user vector to each product block on each\n",
              "iteration, and only for the product blocks that need that user&#x27;s\n",
              "feature vector. This is achieved by pre-computing some information\n",
              "about the ratings matrix to determine the &quot;out-links&quot; of each user\n",
              "(which blocks of products it will contribute to) and &quot;in-link&quot;\n",
              "information for each product (which of the feature vectors it\n",
              "receives from each user block it will depend on). This allows us to\n",
              "send only an array of feature vectors between each user block and\n",
              "product block, and have the product block find the users&#x27; ratings\n",
              "and update the products based on these messages.\n",
              "\n",
              "For implicit preference data, the algorithm used is based on\n",
              "`&quot;Collaborative Filtering for Implicit Feedback Datasets&quot;,\n",
              "&lt;https://doi.org/10.1109/ICDM.2008.22&gt;`_, adapted for the blocked\n",
              "approach used here.\n",
              "\n",
              "Essentially instead of finding the low-rank approximations to the\n",
              "rating matrix `R`, this finds the approximations for a preference\n",
              "matrix `P` where the elements of `P` are 1 if r &gt; 0 and 0 if r &lt;= 0.\n",
              "The ratings then act as &#x27;confidence&#x27; values related to strength of\n",
              "indicated user preferences rather than explicit ratings given to\n",
              "items.\n",
              "\n",
              ".. versionadded:: 1.4.0\n",
              "\n",
              "Notes\n",
              "-----\n",
              "The input rating dataframe to the ALS implementation should be deterministic.\n",
              "Nondeterministic data can cause failure during fitting ALS model.\n",
              "For example, an order-sensitive operation like sampling after a repartition makes\n",
              "dataframe output nondeterministic, like `df.repartition(2).sample(False, 0.5, 1618)`.\n",
              "Checkpointing sampled dataframe or adding a sort before sampling can help make the\n",
              "dataframe deterministic.\n",
              "\n",
              "Examples\n",
              "--------\n",
              "&gt;&gt;&gt; df = spark.createDataFrame(\n",
              "...     [(0, 0, 4.0), (0, 1, 2.0), (1, 1, 3.0), (1, 2, 4.0), (2, 1, 1.0), (2, 2, 5.0)],\n",
              "...     [&quot;user&quot;, &quot;item&quot;, &quot;rating&quot;])\n",
              "&gt;&gt;&gt; als = ALS(rank=10, seed=0)\n",
              "&gt;&gt;&gt; als.setMaxIter(5)\n",
              "ALS...\n",
              "&gt;&gt;&gt; als.getMaxIter()\n",
              "5\n",
              "&gt;&gt;&gt; als.setRegParam(0.1)\n",
              "ALS...\n",
              "&gt;&gt;&gt; als.getRegParam()\n",
              "0.1\n",
              "&gt;&gt;&gt; als.clear(als.regParam)\n",
              "&gt;&gt;&gt; model = als.fit(df)\n",
              "&gt;&gt;&gt; model.getBlockSize()\n",
              "4096\n",
              "&gt;&gt;&gt; model.getUserCol()\n",
              "&#x27;user&#x27;\n",
              "&gt;&gt;&gt; model.setUserCol(&quot;user&quot;)\n",
              "ALSModel...\n",
              "&gt;&gt;&gt; model.getItemCol()\n",
              "&#x27;item&#x27;\n",
              "&gt;&gt;&gt; model.setPredictionCol(&quot;newPrediction&quot;)\n",
              "ALS...\n",
              "&gt;&gt;&gt; model.rank\n",
              "10\n",
              "&gt;&gt;&gt; model.userFactors.orderBy(&quot;id&quot;).collect()\n",
              "[Row(id=0, features=[...]), Row(id=1, ...), Row(id=2, ...)]\n",
              "&gt;&gt;&gt; test = spark.createDataFrame([(0, 2), (1, 0), (2, 0)], [&quot;user&quot;, &quot;item&quot;])\n",
              "&gt;&gt;&gt; predictions = sorted(model.transform(test).collect(), key=lambda r: r[0])\n",
              "&gt;&gt;&gt; predictions[0]\n",
              "Row(user=0, item=2, newPrediction=0.6929...)\n",
              "&gt;&gt;&gt; predictions[1]\n",
              "Row(user=1, item=0, newPrediction=3.47356...)\n",
              "&gt;&gt;&gt; predictions[2]\n",
              "Row(user=2, item=0, newPrediction=-0.899198...)\n",
              "&gt;&gt;&gt; user_recs = model.recommendForAllUsers(3)\n",
              "&gt;&gt;&gt; user_recs.where(user_recs.user == 0)        .select(&quot;recommendations.item&quot;, &quot;recommendations.rating&quot;).collect()\n",
              "[Row(item=[0, 1, 2], rating=[3.910..., 1.997..., 0.692...])]\n",
              "&gt;&gt;&gt; item_recs = model.recommendForAllItems(3)\n",
              "&gt;&gt;&gt; item_recs.where(item_recs.item == 2)        .select(&quot;recommendations.user&quot;, &quot;recommendations.rating&quot;).collect()\n",
              "[Row(user=[2, 1, 0], rating=[4.892..., 3.991..., 0.692...])]\n",
              "&gt;&gt;&gt; user_subset = df.where(df.user == 2)\n",
              "&gt;&gt;&gt; user_subset_recs = model.recommendForUserSubset(user_subset, 3)\n",
              "&gt;&gt;&gt; user_subset_recs.select(&quot;recommendations.item&quot;, &quot;recommendations.rating&quot;).first()\n",
              "Row(item=[2, 1, 0], rating=[4.892..., 1.076..., -0.899...])\n",
              "&gt;&gt;&gt; item_subset = df.where(df.item == 0)\n",
              "&gt;&gt;&gt; item_subset_recs = model.recommendForItemSubset(item_subset, 3)\n",
              "&gt;&gt;&gt; item_subset_recs.select(&quot;recommendations.user&quot;, &quot;recommendations.rating&quot;).first()\n",
              "Row(user=[0, 1, 2], rating=[3.910..., 3.473..., -0.899...])\n",
              "&gt;&gt;&gt; als_path = temp_path + &quot;/als&quot;\n",
              "&gt;&gt;&gt; als.save(als_path)\n",
              "&gt;&gt;&gt; als2 = ALS.load(als_path)\n",
              "&gt;&gt;&gt; als.getMaxIter()\n",
              "5\n",
              "&gt;&gt;&gt; model_path = temp_path + &quot;/als_model&quot;\n",
              "&gt;&gt;&gt; model.save(model_path)\n",
              "&gt;&gt;&gt; model2 = ALSModel.load(model_path)\n",
              "&gt;&gt;&gt; model.rank == model2.rank\n",
              "True\n",
              "&gt;&gt;&gt; sorted(model.userFactors.collect()) == sorted(model2.userFactors.collect())\n",
              "True\n",
              "&gt;&gt;&gt; sorted(model.itemFactors.collect()) == sorted(model2.itemFactors.collect())\n",
              "True\n",
              "&gt;&gt;&gt; model.transform(test).take(1) == model2.transform(test).take(1)\n",
              "True</pre>\n",
              "      <script>\n",
              "      if (google.colab.kernel.accessAllowed && google.colab.files && google.colab.files.view) {\n",
              "        for (const element of document.querySelectorAll('.filepath')) {\n",
              "          element.style.display = 'block'\n",
              "          element.onclick = (event) => {\n",
              "            event.preventDefault();\n",
              "            event.stopPropagation();\n",
              "            google.colab.files.view(element.textContent, 245);\n",
              "          };\n",
              "        }\n",
              "      }\n",
              "      for (const element of document.querySelectorAll('.function-repr-contents')) {\n",
              "        element.onclick = (event) => {\n",
              "          event.preventDefault();\n",
              "          event.stopPropagation();\n",
              "          element.classList.toggle('function-repr-contents-collapsed');\n",
              "        };\n",
              "      }\n",
              "      </script>\n",
              "      </div>"
            ]
          },
          "metadata": {},
          "execution_count": 172
        }
      ]
    },
    {
      "cell_type": "code",
      "source": [
        "\n",
        "from pyspark.ml.tuning import ParamGridBuilder, CrossValidator\n",
        "\n",
        "param_grid = ParamGridBuilder() \\\n",
        "            .addGrid(als.rank, [10, 50, 75, 100]) \\\n",
        "            .addGrid(als.maxIter, [5, 50, 75, 100]) \\\n",
        "            .addGrid(als.regParam, [.01, .05, .1, .15]) \\\n",
        "            .build()"
      ],
      "metadata": {
        "id": "7bn88z8x2UP9"
      },
      "execution_count": 173,
      "outputs": []
    },
    {
      "cell_type": "code",
      "source": [
        "\n",
        "# Define evaluator as RMSE\n",
        "evaluator = RegressionEvaluator(metricName = \"rmse\",\n",
        "                                labelCol = \"rating\",\n",
        "                                predictionCol = \"prediction\")\n",
        "# Print length of evaluator\n",
        "print (\"Num models to be tested using param_grid: \", len(param_grid))"
      ],
      "metadata": {
        "colab": {
          "base_uri": "https://localhost:8080/"
        },
        "id": "nV5MNH8-2V4M",
        "outputId": "a3bb00b3-eee3-491e-a064-94c668ac8a49"
      },
      "execution_count": 174,
      "outputs": [
        {
          "output_type": "stream",
          "name": "stdout",
          "text": [
            "Num models to be tested using param_grid:  64\n"
          ]
        }
      ]
    },
    {
      "cell_type": "code",
      "source": [
        "\n",
        "# Build cross validation using CrossValidator\n",
        "cv = CrossValidator(estimator = als,\n",
        "                    estimatorParamMaps = param_grid,\n",
        "                    evaluator = evaluator,\n",
        "                    numFolds = 5)\n",
        ""
      ],
      "metadata": {
        "id": "Wsj88kut2ZWm"
      },
      "execution_count": 175,
      "outputs": []
    },
    {
      "cell_type": "code",
      "source": [
        "print(cv)\n"
      ],
      "metadata": {
        "colab": {
          "base_uri": "https://localhost:8080/"
        },
        "id": "RTOw_mFH2gzv",
        "outputId": "35a13818-cff1-40c5-bbe4-0686cb3b264e"
      },
      "execution_count": 176,
      "outputs": [
        {
          "output_type": "stream",
          "name": "stdout",
          "text": [
            "CrossValidator_1de0cd9d72b8\n"
          ]
        }
      ]
    },
    {
      "cell_type": "code",
      "source": [
        "model = als.fit(train_data)\n"
      ],
      "metadata": {
        "id": "ukmHbKGz2jFe"
      },
      "execution_count": 177,
      "outputs": []
    },
    {
      "cell_type": "code",
      "source": [
        "predictions = model.transform(test_data)\n"
      ],
      "metadata": {
        "id": "6Qvhc5BG2mRF"
      },
      "execution_count": 178,
      "outputs": []
    },
    {
      "cell_type": "code",
      "source": [
        "predictions.show(10)\n"
      ],
      "metadata": {
        "colab": {
          "base_uri": "https://localhost:8080/"
        },
        "id": "VD64rxKX219-",
        "outputId": "f78c0055-3b97-45ae-89a0-340a788b0019"
      },
      "execution_count": 179,
      "outputs": [
        {
          "output_type": "stream",
          "name": "stdout",
          "text": [
            "+-------+-------+------+----------+\n",
            "|book_id|user_id|rating|prediction|\n",
            "+-------+-------+------+----------+\n",
            "|      1|  10335|     4| 3.9540668|\n",
            "|      1|  10944|     5|  4.206169|\n",
            "|      1|  17434|     5|  4.104765|\n",
            "|      1|  26145|     4| 3.3919623|\n",
            "|      1|  32923|     5| 3.9538445|\n",
            "|      1|  33890|     3| 3.3281388|\n",
            "|      1|  37834|     5| 4.4845634|\n",
            "|      1|  44397|     5|  4.837988|\n",
            "|      1|  49298|     4| 3.8482459|\n",
            "|      1|  51460|     3| 4.1033874|\n",
            "+-------+-------+------+----------+\n",
            "only showing top 10 rows\n",
            "\n"
          ]
        }
      ]
    },
    {
      "cell_type": "code",
      "source": [
        "predictions.createOrReplaceTempView(\"predictions\")\n"
      ],
      "metadata": {
        "id": "YDlyRIXi3Fs6"
      },
      "execution_count": 180,
      "outputs": []
    },
    {
      "cell_type": "code",
      "source": [
        "# Execute SQL query\n",
        "sql_query = \"\"\"\n",
        "SELECT *\n",
        "FROM predictions\n",
        "\"\"\"\n",
        "\n",
        "result = spark.sql(sql_query)\n"
      ],
      "metadata": {
        "id": "-T3EJ3RJ447S"
      },
      "execution_count": 181,
      "outputs": []
    },
    {
      "cell_type": "code",
      "source": [
        "result.show(50)"
      ],
      "metadata": {
        "colab": {
          "base_uri": "https://localhost:8080/"
        },
        "id": "ptEwaTCq4_NY",
        "outputId": "0ba6090a-c549-4dd7-8e69-4f63c1b6707c"
      },
      "execution_count": 182,
      "outputs": [
        {
          "output_type": "stream",
          "name": "stdout",
          "text": [
            "+-------+-------+------+----------+\n",
            "|book_id|user_id|rating|prediction|\n",
            "+-------+-------+------+----------+\n",
            "|      1|  10335|     4| 3.9540668|\n",
            "|      1|  10944|     5|  4.206169|\n",
            "|      1|  17434|     5|  4.104765|\n",
            "|      1|  26145|     4| 3.3919623|\n",
            "|      1|  32923|     5| 3.9538445|\n",
            "|      1|  33890|     3| 3.3281388|\n",
            "|      1|  37834|     5| 4.4845634|\n",
            "|      1|  44397|     5|  4.837988|\n",
            "|      1|  49298|     4| 3.8482459|\n",
            "|      1|  51460|     3| 4.1033874|\n",
            "|      2|   6342|     3|  4.122509|\n",
            "|      2|  10140|     3| 3.1439147|\n",
            "|      2|  10288|     5|  4.598488|\n",
            "|      2|  10751|     3|  4.042369|\n",
            "|      2|  17434|     5| 3.9249997|\n",
            "|      2|  17566|     4| 3.7731078|\n",
            "|      2|  19724|     5|  4.557031|\n",
            "|      2|  21487|     5| 4.0531945|\n",
            "|      2|  27499|     5|  4.637166|\n",
            "|      2|  33716|     5| 3.9981987|\n",
            "|      2|  47800|     5|  4.359119|\n",
            "|      2|  48687|     1| 4.0429144|\n",
            "|      3|   5885|     4| 2.8628042|\n",
            "|      3|   9731|     2|  2.373184|\n",
            "|      3|  10246|     1|  2.367671|\n",
            "|      3|  11408|     3|  2.319769|\n",
            "|      3|  28767|     3|  2.797811|\n",
            "|      3|  37834|     4| 3.3278127|\n",
            "|      3|  51166|     3|  3.239025|\n",
            "|      4|   3922|     4| 4.2658396|\n",
            "|      4|  13794|     4|  3.507986|\n",
            "|      4|  20406|     2|  3.953847|\n",
            "|      4|  43985|     5|  4.104046|\n",
            "|      4|  46482|     5| 4.7333603|\n",
            "|      5|   2324|     5| 4.3844185|\n",
            "|      5|   3662|     4|   3.75936|\n",
            "|      5|   3739|     5| 4.3278794|\n",
            "|      5|   5461|     5|  4.038854|\n",
            "|      5|   8370|     3| 3.3453143|\n",
            "|      5|  10111|     5| 3.5564423|\n",
            "|      5|  10402|     4| 3.0196357|\n",
            "|      5|  13794|     2| 2.7276418|\n",
            "|      5|  17663|     5| 3.8059707|\n",
            "|      5|  19526|     4|   4.37886|\n",
            "|      5|  21217|     4| 3.5898957|\n",
            "|      5|  21228|     4|  3.354844|\n",
            "|      5|  21733|     4| 3.1961193|\n",
            "|      5|  26661|     5|  3.832653|\n",
            "|      6|    725|     5| 3.8376324|\n",
            "|      6|  17984|     4| 4.2422996|\n",
            "+-------+-------+------+----------+\n",
            "only showing top 50 rows\n",
            "\n"
          ]
        }
      ]
    },
    {
      "cell_type": "code",
      "source": [
        "#Printing and calculating RMSE\n",
        "evaluator = RegressionEvaluator(metricName=\"rmse\", labelCol=\"rating\",predictionCol=\"prediction\")\n",
        "rmse = evaluator.evaluate(predictions)\n",
        "print(\"Root-mean-square error = \" + str(rmse))"
      ],
      "metadata": {
        "colab": {
          "base_uri": "https://localhost:8080/"
        },
        "id": "FX3iUF5nFJhd",
        "outputId": "a19551f7-d1f3-4e95-9a49-f9efe1ab6763"
      },
      "execution_count": 183,
      "outputs": [
        {
          "output_type": "stream",
          "name": "stdout",
          "text": [
            "Root-mean-square error = 0.9163827741959887\n"
          ]
        }
      ]
    },
    {
      "cell_type": "code",
      "source": [
        "#Now, we will predict/recommend the book to a single user – user1 (let’s say, userId:5461) with the help of our trained model.\n",
        "\n",
        "\n",
        "user1 = test_data.filter(test_data['user_id']==32592).select(['book_id','user_id'])\n",
        "\n",
        "\n",
        "user1.show()"
      ],
      "metadata": {
        "colab": {
          "base_uri": "https://localhost:8080/"
        },
        "id": "RTYz3ZmmFJmd",
        "outputId": "4aa2a25a-1d4c-4973-f599-8bc9a56bd326"
      },
      "execution_count": 184,
      "outputs": [
        {
          "output_type": "stream",
          "name": "stdout",
          "text": [
            "+-------+-------+\n",
            "|book_id|user_id|\n",
            "+-------+-------+\n",
            "|     20|  32592|\n",
            "|     31|  32592|\n",
            "|     40|  32592|\n",
            "|     46|  32592|\n",
            "|     62|  32592|\n",
            "|    100|  32592|\n",
            "|    111|  32592|\n",
            "|    137|  32592|\n",
            "|    172|  32592|\n",
            "|    225|  32592|\n",
            "|    256|  32592|\n",
            "|    325|  32592|\n",
            "|    395|  32592|\n",
            "|    478|  32592|\n",
            "|    482|  32592|\n",
            "|    501|  32592|\n",
            "|    559|  32592|\n",
            "|    768|  32592|\n",
            "|    834|  32592|\n",
            "|    864|  32592|\n",
            "+-------+-------+\n",
            "only showing top 20 rows\n",
            "\n"
          ]
        }
      ]
    },
    {
      "cell_type": "code",
      "source": [
        "##Here, we will predict/recommend the book to multiple users.\n",
        "\n",
        "\n",
        "# Define a list of user IDs\n",
        "user_ids = [5461, 32592, 1001, 999]\n",
        "\n",
        "# Filter the test data for these users\n",
        "user_data = test_data.filter(test_data['user_id'].isin(user_ids)).select(['book_id','user_id'])\n",
        "\n",
        "# Show the user-item pairs for these users\n",
        "user_data.show(100)"
      ],
      "metadata": {
        "colab": {
          "base_uri": "https://localhost:8080/"
        },
        "id": "yTiIGXUUFJop",
        "outputId": "8793b4ce-d082-4646-d5da-51ce4760c979"
      },
      "execution_count": 188,
      "outputs": [
        {
          "output_type": "stream",
          "name": "stdout",
          "text": [
            "+-------+-------+\n",
            "|book_id|user_id|\n",
            "+-------+-------+\n",
            "|      5|   5461|\n",
            "|      7|   5461|\n",
            "|     20|  32592|\n",
            "|     31|  32592|\n",
            "|     40|  32592|\n",
            "|     46|  32592|\n",
            "|     62|  32592|\n",
            "|     70|   5461|\n",
            "|    100|  32592|\n",
            "|    111|  32592|\n",
            "|    121|   5461|\n",
            "|    137|  32592|\n",
            "|    172|  32592|\n",
            "|    181|   5461|\n",
            "|    225|  32592|\n",
            "|    256|  32592|\n",
            "|    296|   5461|\n",
            "|    323|   5461|\n",
            "|    325|  32592|\n",
            "|    395|  32592|\n",
            "|    478|  32592|\n",
            "|    482|  32592|\n",
            "|    501|  32592|\n",
            "|    521|   5461|\n",
            "|    559|  32592|\n",
            "|    561|   5461|\n",
            "|    768|  32592|\n",
            "|    834|  32592|\n",
            "|    864|  32592|\n",
            "|    966|   5461|\n",
            "|   1161|   5461|\n",
            "|   1266|   5461|\n",
            "|   1275|  32592|\n",
            "|   1360|  32592|\n",
            "|   2322|  32592|\n",
            "|   3579|   5461|\n",
            "|   5211|   5461|\n",
            "|   9406|  32592|\n",
            "|      1|  32592|\n",
            "|      3|   5461|\n",
            "|      4|  32592|\n",
            "|      9|   5461|\n",
            "|     11|  32592|\n",
            "|     14|   5461|\n",
            "|     22|  32592|\n",
            "|     55|   5461|\n",
            "|     60|   5461|\n",
            "|     86|  32592|\n",
            "|     89|  32592|\n",
            "|    113|  32592|\n",
            "|    133|  32592|\n",
            "|    138|  32592|\n",
            "|    178|  32592|\n",
            "|    194|   5461|\n",
            "|    231|   5461|\n",
            "|    261|   5461|\n",
            "|    273|   5461|\n",
            "|    326|  32592|\n",
            "|    386|   5461|\n",
            "|    395|   5461|\n",
            "|    422|  32592|\n",
            "|    515|   5461|\n",
            "|    621|   5461|\n",
            "|    646|   5461|\n",
            "|    763|   5461|\n",
            "|    857|   5461|\n",
            "|    916|   5461|\n",
            "|   1037|  32592|\n",
            "|   1088|   5461|\n",
            "|   1566|   5461|\n",
            "|   1714|  32592|\n",
            "|   2021|  32592|\n",
            "|   2864|   5461|\n",
            "|   5371|  32592|\n",
            "|   6931|  32592|\n",
            "|   8094|   5461|\n",
            "|   8478|   5461|\n",
            "|   9063|   5461|\n",
            "+-------+-------+\n",
            "\n"
          ]
        }
      ]
    },
    {
      "cell_type": "code",
      "source": [],
      "metadata": {
        "id": "70GYSkG-Gw4Y"
      },
      "execution_count": null,
      "outputs": []
    }
  ]
}